{
  "nbformat": 4,
  "nbformat_minor": 0,
  "metadata": {
    "colab": {
      "provenance": [],
      "authorship_tag": "ABX9TyOQ0h8/84PxfwReccpldQXq",
      "include_colab_link": true
    },
    "kernelspec": {
      "name": "python3",
      "display_name": "Python 3"
    },
    "language_info": {
      "name": "python"
    }
  },
  "cells": [
    {
      "cell_type": "markdown",
      "metadata": {
        "id": "view-in-github",
        "colab_type": "text"
      },
      "source": [
        "<a href=\"https://colab.research.google.com/github/mJekal/LG_Aimers/blob/main/data_processing.ipynb\" target=\"_parent\"><img src=\"https://colab.research.google.com/assets/colab-badge.svg\" alt=\"Open In Colab\"/></a>"
      ]
    },
    {
      "cell_type": "code",
      "source": [
        "import re\n",
        "import pandas as pd\n",
        "\n",
        "pd.set_option('display.max_rows', 100)\n",
        "pd.set_option('display.max_columns', 200)\n",
        "\n",
        "import os, sys\n",
        "from google.colab import drive\n",
        "drive.mount('/content/gdrive')\n",
        "\n",
        "default_dir = \"/content/gdrive/My Drive\"\n",
        "df_train = pd.read_csv(os.path.join(default_dir,\"train.csv\")) # 학습용 데이터\n",
        "df_test = pd.read_csv(os.path.join(default_dir,\"submission.csv\")) # 테스트 데이터(제출파일의 데이터)"
      ],
      "metadata": {
        "id": "rBSckm7gwRQL",
        "colab": {
          "base_uri": "https://localhost:8080/"
        },
        "outputId": "d2641932-6b48-46f4-f160-9b9006cd954e"
      },
      "execution_count": 1,
      "outputs": [
        {
          "output_type": "stream",
          "name": "stdout",
          "text": [
            "Drive already mounted at /content/gdrive; to attempt to forcibly remount, call drive.mount(\"/content/gdrive\", force_remount=True).\n"
          ]
        }
      ]
    },
    {
      "cell_type": "markdown",
      "source": [
        "### 데이터 처리 함수"
      ],
      "metadata": {
        "id": "Rrsd_3i1Ta6l"
      }
    },
    {
      "cell_type": "code",
      "source": [
        "def process_country_data(df):\n",
        "    df['customer_country'] = df['customer_country'].str.upper()\n",
        "    split_data = df['customer_country'].str.split('/', expand=True)\n",
        "    df['City'] = split_data[1].str.strip()\n",
        "    df['Country'] = split_data[2].str.strip()\n",
        "\n",
        "def clean_strings(df, columns):\n",
        "    for column in columns:\n",
        "        df[column] = df[column].str.lower().replace(r'[^a-zA-Z0-9]', '', regex=True)\n",
        "\n",
        "def replace_missing_values(df_train, df_test, column, replace_value):\n",
        "    missing_values = df_test[~df_test[column].isin(df_train[column])][column]\n",
        "    df_test.loc[df_test[column].isin(missing_values), column] = replace_value\n",
        "\n",
        "def calculate_ver_country(df):\n",
        "    df['ver_country'] = df['com_reg_ver_win_rate'] / df['ver_win_ratio_per_bu']\n",
        "\n",
        "def preprocess_str_columns(df, column_names):\n",
        "    for column_name in column_names:\n",
        "        df[column_name] = df[column_name].str.replace(\" \", \"\").str.lower()\n",
        "\n",
        "def map_category(value, mapping_dict):\n",
        "    for category, values in mapping_dict.items():\n",
        "        if value in values:\n",
        "            return category\n",
        "    return value  # 매핑되지 않은 경우 원래 값을 반환\n",
        "\n",
        "def apply_mapping(df, column, mapping_dict):\n",
        "    df[column] = df[column].map(lambda x: map_category(x, mapping_dict))\n",
        "\n",
        "def fill_missing_values(df_train, df_test, columns, fill_value=\"NONE\"):\n",
        "    for column in columns:\n",
        "        df_train[column].fillna(fill_value, inplace=True)\n",
        "        df_test[column].fillna(fill_value, inplace=True)\n",
        "\n",
        "def update_column(df, business_unit, column):\n",
        "    cond = (\n",
        "        (df['business_unit'] == business_unit) &\n",
        "        ((df['business_area'] == 'corporate / office') | (df['business_area'] == 'hotel & accommodation')) &\n",
        "        df[column].isna()\n",
        "    )\n",
        "    df.loc[cond, column] = 1\n",
        "    df[column].fillna(0, inplace=True)\n",
        "\n",
        "def generalize_column_values(df, column, condition_dict):\n",
        "    for condition_value, replace_value in condition_dict.items():\n",
        "        rows = df[df[column] == condition_value].index\n",
        "        df.loc[rows, column] = replace_value\n",
        "\n",
        "def map_conversion_rates(df, column):\n",
        "    conversion_rates = df.groupby(column)['is_converted'].mean() * 100\n",
        "    df[column] = df[column].map(conversion_rates)\n"
      ],
      "metadata": {
        "id": "ZXBZMzwGTfTb"
      },
      "execution_count": 2,
      "outputs": []
    },
    {
      "cell_type": "markdown",
      "source": [
        "### 매핑"
      ],
      "metadata": {
        "id": "0u7n4V9kd34P"
      }
    },
    {
      "cell_type": "code",
      "source": [
        "product_mapping = { 'HVAC/ESS': ['control','multiinverter','arcondicionadoresidencial','tetooucasseteinverter', 'ventilation', 'vrf', 'multi-split', 'single-split','rac', 'ess','chiler','chiller', 'heating'],\n",
        "                     'Commercial Display': ['highbrightness','lgone:quickseries','interactivedigitalboard','oledsignage', 'ledsignage', 'videowallsignage', 'interactivesignage', 'highbrightnesssignage', 'specialsignage', 'standardsignage', 'hoteltv', 'hospitaltv', 'softwaresolution', 'signagecaresolution', 'accessories', 'webos', 'one:quickseries', 'pro:centric'],\n",
        "                      'IT PRODUCTS': ['monitor', 'laptop', 'projector', 'clouddevice','notebook', 'medicaldisplay'],\n",
        "                      'Commerical Laundry': ['titan(largecapacity)', 'giant(standardcapacity)'],\n",
        "                      'Compressor & Motor': ['reciprocatingcompressor', 'rotarycompressor', 'scrollcompressor', 'motor'],\n",
        "                      'ADVANCED MATERIALS': ['antimicrobial', 'porcelainenamel', 'specialtyglass'] ,\n",
        "                      'Robot': ['lgcloiuv-cbot', 'lgcloiservebot(shelftype)', 'lgcloiservebot(drawertype)', 'lgcloiguidebot'],\n",
        "                      'Others':['etc.','others','other']\n",
        "                    }\n",
        "\n",
        "customer_type_mapping = { 'End Customer': ['endcustomer','end-user','end-customer', 'constructioncompany', 'owner/developer', 'medical/healthcarefacility', 'government/publicsector',  'corporate', 'education', 'retail', 'fitness'],\n",
        "                         'Channel Partner' : ['agent','channelpartner', 'distributor','reseller', 'nsp(usonly)', 'nationalreseller', 'regionalreseller', 'si(systemintegrator)', 'proav/avconsultant', 'var(3po)'],\n",
        "                          'Specifier/ Influencer': ['specifier/influencer','architect', 'consultant', 'contractor', 'technical/designfirm', 'regionbuilder', 'installer', 'ad&contentsprovider', 'appliedrep'],\n",
        "                          'Solution Eco-Partner': ['solutioneco-partner','cms/webos/isv', 'mount/metalfabrication','meetingsolution', 'control/processor', 'externalcompute'],\n",
        "                           'Developer': ['developer'],\n",
        "                          'Service Partner': ['servicepartner','authorizedservicecenter', 'authorizedservicedealer'], }\n",
        "\n",
        "continent_mapping = { 'Europe': ['LGEWA', 'LGEMA', 'LGEWR', 'LGEUK', 'LGEFS', 'LGEES', 'LGEEH', 'LGEJE', 'LGEDG', 'LGEIS', 'LGEMK', 'LGEPL', 'LGESW', 'LGEHS', 'LGEAG', 'LGERO', 'LGECZ', 'LGEPT', 'LGEBN', 'LGESC', 'LGELS', 'LGENO','LGEMF'],\n",
        "                        'CSI' : ['LGEUA', 'LGEAK','LGERU', 'LGERA', 'LGERI', 'LGERM', 'LGEUR', 'LGELV'],\n",
        "                        'China': ['LGETR', 'LGERD', 'LGEHZ', 'LGEND', 'LGEHK', 'LGETT',  'LGEPN', 'LGECH','LGEQH', 'LGESH', 'LGESY', 'LGETA', 'LGEYT', 'LGEKS', 'LGENP', 'LGEHN', 'LGEQD'],\n",
        "                       'Asia': ['LGEIL', 'LGSI','LGEAP',  'LGETH', 'LGEVN', 'LGEIN', 'LGESL', 'LGEML', 'LGEJP', 'LGEPH', 'LGEVH','LGEKR'],\n",
        "                       'MIDDLE EAST & America': ['LGEEG', 'LGEAT', 'LGESR', 'LGETK', 'LGESA', 'LGEMC', 'LGEGF', 'LGEME', 'LGEOT', 'LGEEC', 'LGENI', 'LGEAF', 'LGELF','LGESJ'],\n",
        "                       'North America': ['LGEMX', 'LGEMM', 'LGEAI', 'LGECI', 'LGEUS', 'LGEMU', 'LGEMS', 'LGEMR'],\n",
        "                       'SOUTH & CENTRAL AMERICA' :['LGEAR', 'LGEAZ', 'LGECB', 'LGECL', 'LGEPR', 'LGEPS','LGERS', 'LGESP' ],\n",
        " }"
      ],
      "metadata": {
        "id": "_VuBL4uhdnW1"
      },
      "execution_count": 3,
      "outputs": []
    },
    {
      "cell_type": "markdown",
      "source": [
        "**슬래시 기준으로 City와 Country 새로운 칼럼 만들기**"
      ],
      "metadata": {
        "id": "nE6JjSl-QMVu"
      }
    },
    {
      "cell_type": "code",
      "source": [
        "def process_country_data(df):\n",
        "    df['customer_country'] = df['customer_country'].str.upper()\n",
        "    split_data = df['customer_country'].str.split('/', expand=True)\n",
        "    df['City'] = split_data[1].str.strip()\n",
        "    df['Country'] = split_data[2].str.strip()\n",
        "\n",
        "process_country_data(df_train)\n",
        "process_country_data(df_test)"
      ],
      "metadata": {
        "id": "DWrpcoMVUcBI"
      },
      "execution_count": 4,
      "outputs": []
    },
    {
      "cell_type": "markdown",
      "source": [
        "**알파벳이 아니거나 숫자가 아닌 문자를 제거하고, 모든 문자를 소문자로 변환**\n",
        "\n",
        "변환할 칼럼 : City, Country,expected_timeline,customer_job,inquiry_type,customer_position"
      ],
      "metadata": {
        "id": "-kNLNS32RVLj"
      }
    },
    {
      "cell_type": "code",
      "source": [
        "def clean_strings(df, columns):\n",
        "    for column in columns:\n",
        "        df[column] = df[column].str.lower().replace(r'[^a-zA-Z0-9]', '', regex=True)\n",
        "\n",
        "columns_to_clean = ['City', 'Country','expected_timeline','customer_job','inquiry_type','customer_position']\n",
        "\n",
        "clean_strings(df_train, columns_to_clean)\n",
        "clean_strings(df_test, columns_to_clean)"
      ],
      "metadata": {
        "id": "ecdJE6IcVc-6"
      },
      "execution_count": 5,
      "outputs": []
    },
    {
      "cell_type": "markdown",
      "source": [
        "**Test데이터 셋에서 Train 데이터 셋에 없는 국가를 \"None\"으로 대체**"
      ],
      "metadata": {
        "id": "LmAQneuyRbMq"
      }
    },
    {
      "cell_type": "code",
      "source": [
        "def replace_missing_values(df_train, df_test, column, replace_value):\n",
        "    missing_values = df_test[~df_test[column].isin(df_train[column])][column]\n",
        "    df_test.loc[df_test[column].isin(missing_values), column] = replace_value\n",
        "\n",
        "replace_missing_values(df_train, df_test, 'Country', \"None\")"
      ],
      "metadata": {
        "id": "bafeOvTkXnG8"
      },
      "execution_count": 6,
      "outputs": []
    },
    {
      "cell_type": "markdown",
      "source": [
        "**Vertical Level 1과 Business Unit에서 특정 Region의 가중 영업 전환된 샘플 비율(?)**"
      ],
      "metadata": {
        "id": "bXv_K6p0SYn9"
      }
    },
    {
      "cell_type": "code",
      "source": [
        "def calculate_ver_country(df):\n",
        "    df['ver_country'] = df['com_reg_ver_win_rate'] / df['ver_win_ratio_per_bu']\n",
        "\n",
        "calculate_ver_country(df_train)\n",
        "calculate_ver_country(df_test)"
      ],
      "metadata": {
        "id": "W6V_-Zo3UwJh"
      },
      "execution_count": 7,
      "outputs": []
    },
    {
      "cell_type": "markdown",
      "source": [
        "**Test데이터 셋에서 Train 데이터 셋에 없는 ID를 99999으로 대체**"
      ],
      "metadata": {
        "id": "20dSti6ESj9e"
      }
    },
    {
      "cell_type": "code",
      "source": [
        "replace_missing_values(df_train, df_test, 'customer_idx', 99999)"
      ],
      "metadata": {
        "id": "DkwDmcRiYlGO"
      },
      "execution_count": 8,
      "outputs": []
    },
    {
      "cell_type": "markdown",
      "source": [
        "**문자열에서 공백을 제거하고 모든 문자열을 소문자로 변환**"
      ],
      "metadata": {
        "id": "6MVyT9sfT6P0"
      }
    },
    {
      "cell_type": "code",
      "source": [
        "def preprocess_str_columns(df, column_names):\n",
        "    for column_name in column_names:\n",
        "        df[column_name] = df[column_name].str.replace(\" \", \"\").str.lower()\n",
        "\n",
        "columns_to_preprocess = ['customer_type', 'product_category']\n",
        "\n",
        "preprocess_str_columns(df_train, columns_to_preprocess)\n",
        "preprocess_str_columns(df_test, columns_to_preprocess)"
      ],
      "metadata": {
        "id": "jjwwpV-BVL7J"
      },
      "execution_count": 9,
      "outputs": []
    },
    {
      "cell_type": "markdown",
      "source": [
        "**LG inquiry-to-buy 참고해서 재범주화**\n",
        "\n",
        "적용할 칼럼 : customer_type, product_category"
      ],
      "metadata": {
        "id": "LnUuwoQCUJkA"
      }
    },
    {
      "cell_type": "code",
      "source": [
        "def map_category(value, mapping_dict):\n",
        "    for category, values in mapping_dict.items():\n",
        "        if value in values:\n",
        "            return category\n",
        "    return value  # 매핑되지 않은 경우 원래 값을 반환\n",
        "\n",
        "def apply_mapping(df, column, mapping_dict):\n",
        "    df[column] = df[column].map(lambda x: map_category(x, mapping_dict))\n",
        "\n",
        "product_mapping = { 'HVAC/ESS': ['control','multiinverter','arcondicionadoresidencial','tetooucasseteinverter', 'ventilation', 'vrf', 'multi-split', 'single-split','rac', 'ess','chiler','chiller', 'heating'],\n",
        "                     'Commercial Display': ['highbrightness','lgone:quickseries','interactivedigitalboard','oledsignage', 'ledsignage', 'videowallsignage', 'interactivesignage', 'highbrightnesssignage', 'specialsignage', 'standardsignage', 'hoteltv', 'hospitaltv', 'softwaresolution', 'signagecaresolution', 'accessories', 'webos', 'one:quickseries', 'pro:centric'],\n",
        "                      'IT PRODUCTS': ['monitor', 'laptop', 'projector', 'clouddevice','notebook', 'medicaldisplay'],\n",
        "                      'Commerical Laundry': ['titan(largecapacity)', 'giant(standardcapacity)'],\n",
        "                      'Compressor & Motor': ['reciprocatingcompressor', 'rotarycompressor', 'scrollcompressor', 'motor'],\n",
        "                      'ADVANCED MATERIALS': ['antimicrobial', 'porcelainenamel', 'specialtyglass'] ,\n",
        "                      'Robot': ['lgcloiuv-cbot', 'lgcloiservebot(shelftype)', 'lgcloiservebot(drawertype)', 'lgcloiguidebot'],\n",
        "                      'Others':['etc.','others','other']\n",
        "                    }\n",
        "\n",
        "customer_type_mapping = { 'End Customer': ['endcustomer','end-user','end-customer', 'constructioncompany', 'owner/developer', 'medical/healthcarefacility', 'government/publicsector',  'corporate', 'education', 'retail', 'fitness'],\n",
        "                         'Channel Partner' : ['agent','channelpartner', 'distributor','reseller', 'nsp(usonly)', 'nationalreseller', 'regionalreseller', 'si(systemintegrator)', 'proav/avconsultant', 'var(3po)'],\n",
        "                          'Specifier/ Influencer': ['specifier/influencer','architect', 'consultant', 'contractor', 'technical/designfirm', 'regionbuilder', 'installer', 'ad&contentsprovider', 'appliedrep'],\n",
        "                          'Solution Eco-Partner': ['solutioneco-partner','cms/webos/isv', 'mount/metalfabrication','meetingsolution', 'control/processor', 'externalcompute'],\n",
        "                           'Developer': ['developer'],\n",
        "                          'Service Partner': ['servicepartner','authorizedservicecenter', 'authorizedservicedealer'], }\n",
        "\n",
        "apply_mapping(df_train, 'product_category', product_mapping)\n",
        "apply_mapping(df_test, 'product_category', product_mapping)\n",
        "apply_mapping(df_train, 'customer_type', customer_type_mapping)\n",
        "apply_mapping(df_test, 'customer_type', customer_type_mapping)"
      ],
      "metadata": {
        "id": "ZskuItiXVMeV"
      },
      "execution_count": 10,
      "outputs": []
    },
    {
      "cell_type": "markdown",
      "source": [
        "**결측치를 지정한 \"NONE\"으로 채우기**"
      ],
      "metadata": {
        "id": "S64JzFITVFZA"
      }
    },
    {
      "cell_type": "code",
      "source": [
        "def fill_missing_values(df_train, df_test, columns, fill_value=\"NONE\"):\n",
        "    for column in columns:\n",
        "        df_train[column].fillna(fill_value, inplace=True)\n",
        "        df_test[column].fillna(fill_value, inplace=True)\n",
        "\n",
        "columns_to_fill = ['customer_type', 'expected_timeline']\n",
        "\n",
        "fill_missing_values(df_train, df_test, columns_to_fill)"
      ],
      "metadata": {
        "id": "duqahMqSVPK8"
      },
      "execution_count": 11,
      "outputs": []
    },
    {
      "cell_type": "markdown",
      "source": [
        "**결측치가 조건에 맞으면 1, 아니면 0**\n",
        "\n",
        "적용할 칼럼 : id_strategic_ver, it_strategic_ver\n",
        "\n"
      ],
      "metadata": {
        "id": "C51d-ZYvWAQ2"
      }
    },
    {
      "cell_type": "code",
      "source": [
        "def update_column(df, business_unit, column):\n",
        "    cond = (\n",
        "        (df['business_unit'] == business_unit) &\n",
        "        ((df['business_area'] == 'corporate / office') | (df['business_area'] == 'hotel & accommodation')) &\n",
        "        df[column].isna()\n",
        "    )\n",
        "    df.loc[cond, column] = 1\n",
        "    df[column].fillna(0, inplace=True)\n",
        "\n",
        "update_column(df_train, 'ID',  'id_strategic_ver')\n",
        "update_column(df_test, 'ID', 'id_strategic_ver')\n",
        "update_column(df_train, 'IT',  'it_strategic_ver')\n",
        "update_column(df_test, 'IT', 'it_strategic_ver')"
      ],
      "metadata": {
        "id": "C1Zj7B2tWOlq"
      },
      "execution_count": 12,
      "outputs": []
    },
    {
      "cell_type": "markdown",
      "source": [
        "**id_strategic_ver가 1이거나 it_strategic_ver가 1이면 결측치 1, 아니면 0**"
      ],
      "metadata": {
        "id": "iWmZkV41eCck"
      }
    },
    {
      "cell_type": "code",
      "source": [
        "df_train['idit_strategic_ver'] = df_train.apply(lambda row: 1 if row['id_strategic_ver'] == 1 or row['it_strategic_ver'] == 1 else 0, axis=1)\n",
        "df_test['idit_strategic_ver'] = df_test.apply(lambda row: 1 if row['id_strategic_ver'] == 1 or row['it_strategic_ver'] == 1 else 0, axis=1)"
      ],
      "metadata": {
        "id": "N8aBygyZV_u5"
      },
      "execution_count": 13,
      "outputs": []
    },
    {
      "cell_type": "markdown",
      "source": [
        "**특정 조건에 따라 값들을 대체**\n",
        "\n",
        "적용할 칼럼 : customer_job, inquiry_type"
      ],
      "metadata": {
        "id": "wdKINMihbBBV"
      }
    },
    {
      "cell_type": "code",
      "source": [
        "def generalize_column_values(df, column, condition_dict):\n",
        "    for condition_value, replace_value in condition_dict.items():\n",
        "        rows = df[df[column] == condition_value].index\n",
        "        df.loc[rows, column] = replace_value\n",
        "\n",
        "condition_dict_test = {'healthcare': 'healthcareservices'}\n",
        "generalize_column_values(df_test, 'customer_job', condition_dict_test)\n",
        "condition_dict_train = {'purchaseorquotation': 'usageortechnicalconsultation'}\n",
        "generalize_column_values(df_train, 'inquiry_type', condition_dict_train)"
      ],
      "metadata": {
        "id": "cG1E78zHWC9L"
      },
      "execution_count": 14,
      "outputs": []
    },
    {
      "cell_type": "markdown",
      "source": [
        "**평균 변환율을 계산하고 변환율을 적용**"
      ],
      "metadata": {
        "id": "kF2plY9icik1"
      }
    },
    {
      "cell_type": "code",
      "source": [
        "def map_conversion_rates(df, column):\n",
        "    conversion_rates = df.groupby(column)['is_converted'].mean() * 100\n",
        "    df[column] = df[column].map(conversion_rates)\n",
        "\n",
        "map_conversion_rates(df_train, 'lead_owner')"
      ],
      "metadata": {
        "id": "3Q2v3j0kh6bU"
      },
      "execution_count": 15,
      "outputs": []
    },
    {
      "cell_type": "markdown",
      "source": [
        "**사업본부로 대륙 매핑**"
      ],
      "metadata": {
        "id": "ILrgDUH3bib1"
      }
    },
    {
      "cell_type": "code",
      "source": [
        "continent_mapping = { 'Europe': ['LGEWA', 'LGEMA', 'LGEWR', 'LGEUK', 'LGEFS', 'LGEES', 'LGEEH', 'LGEJE', 'LGEDG', 'LGEIS', 'LGEMK', 'LGEPL', 'LGESW', 'LGEHS', 'LGEAG', 'LGERO', 'LGECZ', 'LGEPT', 'LGEBN', 'LGESC', 'LGELS', 'LGENO','LGEMF'],\n",
        " 'CSI' : ['LGEUA', 'LGEAK','LGERU', 'LGERA', 'LGERI', 'LGERM', 'LGEUR', 'LGELV'],\n",
        " 'China': ['LGETR', 'LGERD', 'LGEHZ', 'LGEND', 'LGEHK', 'LGETT',  'LGEPN', 'LGECH','LGEQH', 'LGESH', 'LGESY', 'LGETA', 'LGEYT', 'LGEKS', 'LGENP', 'LGEHN', 'LGEQD'],\n",
        " 'Asia': ['LGEIL', 'LGSI','LGEAP',  'LGETH', 'LGEVN', 'LGEIN', 'LGESL', 'LGEML', 'LGEJP', 'LGEPH', 'LGEVH','LGEKR'],\n",
        " 'MIDDLE EAST & America': ['LGEEG', 'LGEAT', 'LGESR', 'LGETK', 'LGESA', 'LGEMC', 'LGEGF', 'LGEME', 'LGEOT', 'LGEEC', 'LGENI', 'LGEAF', 'LGELF','LGESJ'],\n",
        " 'North America': ['LGEMX', 'LGEMM', 'LGEAI', 'LGECI', 'LGEUS', 'LGEMU', 'LGEMS', 'LGEMR'],\n",
        " 'SOUTH & CENTRAL AMERICA' :['LGEAR', 'LGEAZ', 'LGECB', 'LGECL', 'LGEPR', 'LGEPS','LGERS', 'LGESP' ],\n",
        " }\n",
        "\n",
        "df_train['Continent'] = df_train['response_corporate'].map({value: continent for continent, values in continent_mapping.items() for value in values})\n",
        "df_test['Continent'] = df_test['response_corporate'].map({value: continent for continent, values in continent_mapping.items() for value in values})\n"
      ],
      "metadata": {
        "id": "dNHHiFwNWqhq"
      },
      "execution_count": 16,
      "outputs": []
    },
    {
      "cell_type": "markdown",
      "source": [
        "### EDA"
      ],
      "metadata": {
        "id": "Ayv3ni-QeWD7"
      }
    },
    {
      "cell_type": "markdown",
      "source": [
        "##1 bant_submit\n",
        "결측치 없다\n",
        "##2 customer_country\n",
        "customer_country.1과 동일\n",
        "\n",
        "슬래시 기준으로 City와 Country 새로운 칼럼 만들 수 있음\n",
        "\n",
        "결측치 0.016560 -> NaN으로 나둠\n",
        "\n",
        "특수문자 제거, 소문자\n",
        "\n",
        "테스트 셋에 있는 데 train 셋에 없으면 None\n",
        "\n",
        "##3 business_unit\n",
        "결측치 없다\n",
        "\n",
        "##4 com_reg_ver_win_rate\n",
        "\"com_reg_ver_win_rate\"에서는 특정 지역의 전체 영업 전환된 샘플 비율을 나타냄\n",
        "\n",
        "\"ver_win_ratio_per_bu\"는 특정 Vertical Level 1의 Business Unit 별 영업 전환된 샘플 비율을 나타 냄\n",
        "\n",
        "이 두 값을 나누면 특정 Vertical Level 1과 Business Unit에서 특정 Region의 가중 영업 전환된 샘플 비율을 구할 수 있을것이라 생각\n",
        "\n",
        "결측치 -> 그대로 -> miceforest\n",
        "\n",
        "ver_country 칼럼 만들기\n",
        "\n",
        "##5 customer_idx\n",
        "결측치 없다\n",
        "\n",
        "테스트 셋에 있는 데 train 셋에 없으면 99999\n",
        "##6 customer_type\n",
        "LG inquiry-to-buy 참고해서 재범주화\n",
        "\n",
        "결측치 : 0.741345 -> \"NONE\"으로 바꾸기\n",
        "\n",
        "##7 enterprise\n",
        "결측치 없다\n",
        "\n",
        "원핫 인코딩\n",
        "##8 historical_existing_cnt\n",
        "결측치 비율 0.768023 -> miceforest\n",
        "##9 id_strategic_ver\n",
        "business_area가 corporate / office 또는 hotel & accomodataion 이고 business_unit이 ID면 1\n",
        "\n",
        "결측치 위 조건에 해당하면 1, 해당하지 않으면 0\n",
        "##10 it_strategic_ver\n",
        "business_area가 corporate / office 또는 hotel & accomodataion 이고 business_unit이 IT면 1\n",
        "\n",
        "결측치 위 조건에 해당하면 1, 해당하지 않으면 0\n",
        "##11 idit_strategic_ver\n",
        "id_strategic_ver 또는 it_strategic_ver 중 하나라도 1이면 1\n",
        "\n",
        "결측치 위 조건에 해당하면 1, 해당하지 않으면 0\n",
        "##12 customer_job\n",
        "결측치 비율 : 0.315908 -> 그대로\n",
        "\n",
        "특수문자 제거, 소문자 변경\n",
        "\n",
        "test셋의 healthcare를 healthcareservices로\n",
        "\n",
        "##13 lead_desc_length\n",
        "skewed 되어 있다 -> Min-Max 스케일\n",
        "\n",
        "결측치 없음\n",
        "##14 inquiry_type\n",
        "결측치 : 0.015869 -> 그대로 나둔다\n",
        "\n",
        "특수문자 제거, 소문자 변경\n",
        "\n",
        "train 셋의 purchaseorquotation를 usageortechnicalconsultation로\n",
        "\n",
        "##15 product_category\n",
        "LG inquiry-to-buy 참고해서 재범주화\n",
        "\n",
        "결측치 0.326717 -> 그대로\n",
        "\n",
        "##16 product_subcategory\n",
        "결측치 비율 0.8442638155786776 -> 컬럼 삭제\n",
        "##17 product_modelname\n",
        "결측치 비율 0.8443649977234018 -> 컬럼 삭제\n",
        "##18 customer_country.1\n",
        "customer_country와 동일 -> 컬럼삭제\n",
        "##19 cusomer_position\n",
        "결측치 없음\n",
        "\n",
        "특수문자 제거, 소문자 변경\n",
        "##20 response_corporate\n",
        "LG inquiry-to-buy 참고해서 재범주화\n",
        "\n",
        "결측치 없음\n",
        "##21 expected_timeline\n",
        "결측치 0.520464 -> \"NONE\" 으로 변경\n",
        "##22 ver_cus\n",
        "결측치 없음\n",
        "\n",
        "ver_cus와 business_area, customer_type과 밀접한 관련\n",
        "\n",
        "ver_cus가 1인데 business_area나 customer_type이 결측치인 경우는 없다\n",
        "\n",
        "ver_cus가 1일때 business_area type :\n",
        "\n",
        "hotel & accommodation\n",
        "\n",
        "retail\n",
        "\n",
        "education\n",
        "\n",
        "corporate / office\n",
        "\n",
        "##23 ver_pro\n",
        "결측치 없음\n",
        "\n",
        "business_area와 product_category와 밀접한 관련\n",
        "\n",
        "Product로 매핑한 결과, ver_pro가 1인 Product는 모두 Commercial Display에 속했다\n",
        "\n",
        "##24 ver_win_rate_x\n",
        "\n",
        "business_area에 따라 값 매칭\n",
        "\n",
        "결측치 동일하고, business_area가 같으면 ver_win_rate_x가 같은 값\n",
        "\n",
        "결측치 : ver_win_rate_x -> miceforest\n",
        "\n",
        "##25 ver_win_ratio_per_bu\n",
        "결측치 비율 : 0.741918 -> miceforest or 컬럼삭제\n",
        "\n",
        "'business_area', 'business_unit'와 밀접하게 관련\n",
        "\n",
        "'business_area'와 'business_unit'이 같으면 같은 값\n",
        "\n",
        "'business_area'가 결측치 이면 'ver_win_ratio_per_bu'도 결측치 이다\n",
        "\n",
        "'business_area'와 'business_unit' 둘 다 존재하는데 NaN값도 있다.\n",
        "\n",
        "칼럼 삭제?\n",
        "\n",
        "##26 business_area\n",
        "\n",
        "결측치 0.689421 -> 컬럼 삭제\n",
        "\n",
        "business_area가 결측치 이면, ver_cus와 ver_pro도 0 이다.\n",
        "\n",
        "##27 business_subarea\n",
        "business_subarea 0.906811 -> 컬럼 삭제\n",
        "\n",
        "business_area가 결측치 이면, business_subarea도 결측치 이다.\n",
        "\n",
        "##28 lead_owner\n",
        "결측치 없음\n",
        "\n",
        "Frequency Encoding\n",
        "\n",
        "##삭제할 칼럼\n",
        "\n",
        "customer_country\n",
        "\n",
        "com_reg_ver_win_rate\n",
        "\n",
        "customer_type\n",
        "\n",
        "business_area\n",
        "\n",
        "business_subarea\n",
        "\n",
        "product_subcategory\n",
        "\n",
        "product_modelname\n",
        "\n",
        "customer_country.1\n",
        "\n",
        "\n",
        "##새로 만든 칼럼\n",
        "ver_country\n",
        "\n",
        "City\n",
        "\n",
        "Country\n",
        "\n",
        "## LG Inquiry-to-buy 참고 해서 바꾼 칼럼\n",
        "customer_type\n",
        "\n",
        "product_category\n",
        "\n",
        "response_corporate"
      ],
      "metadata": {
        "id": "vL9CJR70eYK8"
      }
    }
  ]
}