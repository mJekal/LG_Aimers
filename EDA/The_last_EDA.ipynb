{
  "nbformat": 4,
  "nbformat_minor": 0,
  "metadata": {
    "colab": {
      "provenance": []
    },
    "kernelspec": {
      "name": "python3",
      "display_name": "Python 3"
    },
    "language_info": {
      "name": "python"
    }
  },
  "cells": [
    {
      "cell_type": "markdown",
      "source": [
        "# #1 bant_submit\n",
        "- 결측치 없다\n"
      ],
      "metadata": {
        "id": "F1qu-5A2AnJV"
      }
    },
    {
      "cell_type": "markdown",
      "source": [
        "# #2 customer_country\n",
        "- customer_country.1과 동일\n",
        "- 슬래시 기준으로 City와 Country 새로운 칼럼 만들 수 있음\n",
        "- 결측치 0.016560 -> NaN으로 나둠\n",
        "- 특수문자 제거, 소문자\n",
        "- 테스트 셋에 있는 데 train 셋에 없으면 None\n"
      ],
      "metadata": {
        "id": "53TkQtjWAvbq"
      }
    },
    {
      "cell_type": "markdown",
      "source": [
        "# #3 business_unit\n",
        "- 결측치 없다\n"
      ],
      "metadata": {
        "id": "TbCUy8AkAvZA"
      }
    },
    {
      "cell_type": "markdown",
      "source": [
        "# #4 com_reg_ver_win_rate\n",
        "- \"com_reg_ver_win_rate\"에서는 특정 지역의 전체 영업 전환된 샘플 비율을 나타냄\n",
        "- \"ver_win_ratio_per_bu\"는 특정 Vertical Level 1의 Business Unit 별 영업 전환된 샘플 비율을 나타 냄\n",
        "- 이 두 값을 나누면 특정 Vertical Level 1과 Business Unit에서 특정 Region의 가중 영업 전환된 샘플 비율을 구할 수 있을것이라 생각\n",
        "- 결측치 -> 그대로 -> miceforest\n",
        "- ver_country 칼럼 만들기"
      ],
      "metadata": {
        "id": "cZEijeCOAvUG"
      }
    },
    {
      "cell_type": "markdown",
      "source": [
        "# #5 customer_idx\n",
        "- 결측치 없다\n",
        "- 테스트 셋에 있는 데 train 셋에 없으면 99999\n"
      ],
      "metadata": {
        "id": "oglVcW4DAvR2"
      }
    },
    {
      "cell_type": "markdown",
      "source": [
        "# #6 customer_type\n",
        "- LG inquiry-to-buy 참고해서 재범주화\n",
        "- 결측치 : 0.741345 -> \"NONE\"으로 바꾸기"
      ],
      "metadata": {
        "id": "kNlA2CtqJyld"
      }
    },
    {
      "cell_type": "markdown",
      "source": [
        "# #7 enterprise\n",
        "- 결측치 없다\n",
        "- 원핫 인코딩\n"
      ],
      "metadata": {
        "id": "yXNkMJjLAvPk"
      }
    },
    {
      "cell_type": "markdown",
      "source": [
        "# #8 historical_existing_cnt\n",
        "- 결측치 비율 0.768023 -> miceforest"
      ],
      "metadata": {
        "id": "LxDCgbTcAvNX"
      }
    },
    {
      "cell_type": "markdown",
      "source": [
        "# #9 id_strategic_ver\n",
        "- business_area가 corporate / office 또는 hotel & accomodataion 이고 business_unit이 ID면 1\n",
        "- 결측치 위 조건에 해당하면 1, 해당하지 않으면 0"
      ],
      "metadata": {
        "id": "Kga803vRAvLk"
      }
    },
    {
      "cell_type": "markdown",
      "source": [
        "# #10 it_strategic_ver\n",
        "- business_area가 corporate / office 또는 hotel & accomodataion 이고 business_unit이 IT면 1\n",
        "- 결측치 위 조건에 해당하면 1, 해당하지 않으면 0"
      ],
      "metadata": {
        "id": "wXc_q5dzAvEF"
      }
    },
    {
      "cell_type": "markdown",
      "source": [
        "# #11 idit_strategic_ver\n",
        "- id_strategic_ver 또는 it_strategic_ver 중 하나라도 1이면 1\n",
        "- 결측치 위 조건에 해당하면 1, 해당하지 않으면 0\n"
      ],
      "metadata": {
        "id": "H9jlvnQUAvI7"
      }
    },
    {
      "cell_type": "markdown",
      "source": [
        "# #12 customer_job\n",
        "- 결측치 비율 : 0.315908 -> 그대로\n",
        "- 특수문자 제거, 소문자 변경\n",
        "- test셋의 healthcare를 healthcareservices로"
      ],
      "metadata": {
        "id": "yKbkeBGHAvGY"
      }
    },
    {
      "cell_type": "markdown",
      "source": [
        "# #13 lead_desc_length\n",
        "- skewed 되어 있다 -> Min-Max 스케일\n",
        "- 결측치 없음"
      ],
      "metadata": {
        "id": "CcjY0-BAAvB8"
      }
    },
    {
      "cell_type": "markdown",
      "source": [
        "# #14 inquiry_type\n",
        "- 결측치 : 0.015869 -> 그대로 나둔다\n",
        "- 특수문자 제거, 소문자 변경\n",
        "- train 셋의 purchaseorquotation를 usageortechnicalconsultation로"
      ],
      "metadata": {
        "id": "OUvXaVSwBE9V"
      }
    },
    {
      "cell_type": "markdown",
      "source": [
        "# #15 product_category\n",
        "- LG inquiry-to-buy 참고해서 재범주화\n",
        "- 결측치 0.326717 -> 그대로"
      ],
      "metadata": {
        "id": "wm4EwkLtBE65"
      }
    },
    {
      "cell_type": "markdown",
      "source": [
        "# #16 product_subcategory\n",
        "- 결측치 비율 0.8442638155786776 -> 컬럼 삭제"
      ],
      "metadata": {
        "id": "crmAzDfsBE4i"
      }
    },
    {
      "cell_type": "markdown",
      "source": [
        "# #17 product_modelname\n",
        "- 결측치 비율 0.8443649977234018 -> 컬럼 삭제"
      ],
      "metadata": {
        "id": "Sa0vglx5BEro"
      }
    },
    {
      "cell_type": "markdown",
      "source": [
        "# #18 customer_country.1\n",
        "- customer_country와 동일 -> 컬럼삭제"
      ],
      "metadata": {
        "id": "3Lwx39HNBEpd"
      }
    },
    {
      "cell_type": "markdown",
      "source": [
        "# #19 cusomer_position\n",
        "- 결측치 없음\n",
        "- 특수문자 제거, 소문자 변경\n"
      ],
      "metadata": {
        "id": "czna_vfzBEm9"
      }
    },
    {
      "cell_type": "markdown",
      "source": [
        "# #20 response_corporate\n",
        "- LG inquiry-to-buy 참고해서 재범주화\n",
        "- 결측치 없음"
      ],
      "metadata": {
        "id": "RLPVgtvBBEZq"
      }
    },
    {
      "cell_type": "markdown",
      "source": [
        "# #21 expected_timeline\n",
        "- 결측치 0.520464 -> \"NONE\" 으로 변경"
      ],
      "metadata": {
        "id": "zc452ntdVajX"
      }
    },
    {
      "cell_type": "markdown",
      "source": [
        "# #22 ver_cus\n",
        "- 결측치 없음\n",
        "- ver_cus와 business_area, customer_type과 밀접한 관련\n",
        "-ver_cus가 1인데 business_area나 customer_type이 결측치인 경우는 없다\n",
        "- ver_cus가 1인 경우 :\n",
        "  - business_area type :\n",
        "  - hotel & accommodation\n",
        "  - retail\n",
        "  - education\n",
        "  - corporate / office"
      ],
      "metadata": {
        "id": "B7nLyrloVaeK"
      }
    },
    {
      "cell_type": "markdown",
      "source": [
        "# #23 ver_pro\n",
        "- 결측치 없음\n",
        "- business_area와 product_category와 밀접한 관련\n",
        "- Product로 매핑한 결과, ver_pro가 1인 Product는 모두 Commercial Display에 속했다"
      ],
      "metadata": {
        "id": "Wr5YkBKtVabb"
      }
    },
    {
      "cell_type": "markdown",
      "source": [
        "# #24 ver_win_rate_x\n",
        "- business_area에 따라 값 매칭\n",
        "- 결측치 동일하고, business_area가 같으면 ver_win_rate_x가 같은 값\n",
        "- 결측치 : ver_win_rate_x -> miceforest\n"
      ],
      "metadata": {
        "id": "JX6V5BCaVaZA"
      }
    },
    {
      "cell_type": "markdown",
      "source": [
        "# #22 ver_win_ratio_per_bu\n",
        "- 결측치 비율 : 0.741918 -> miceforest or 컬럼삭제\n",
        "- 'business_area', 'business_unit'와 밀접하게 관련\n",
        "- 'business_area'와 'business_unit'이 같으면 같은 값\n",
        "- 'business_area'가 결측치 이면 'ver_win_ratio_per_bu'도 결측치 이다\n",
        "- 'business_area'와 'business_unit' 둘 다 존재하는데 NaN값도 있다.\n",
        "- 칼럼 삭제?"
      ],
      "metadata": {
        "id": "e6A6FKapVaWV"
      }
    },
    {
      "cell_type": "markdown",
      "source": [
        "# #26 business_area\n",
        "- 결측치 0.689421 -> 컬럼 삭제\n",
        "- business_area가 결측치 이면, ver_cus와 ver_pro도 0 이다."
      ],
      "metadata": {
        "id": "AiGEm1UrVuXR"
      }
    },
    {
      "cell_type": "markdown",
      "source": [
        "# #27 business_subarea\n",
        "- business_subarea 0.906811 -> 컬럼 삭제\n",
        "- business_area가 결측치 이면, business_subarea도 결측치 이다.\n",
        "\n"
      ],
      "metadata": {
        "id": "sSxjvFxJVaTt"
      }
    },
    {
      "cell_type": "markdown",
      "source": [
        "# #28 lead_owner\n",
        "- 결측치 없음\n",
        "- Frequency Encoding"
      ],
      "metadata": {
        "id": "7qoZnJ04VaRI"
      }
    },
    {
      "cell_type": "markdown",
      "source": [
        "# 삭제할 칼럼\n",
        "- customer_country\n",
        "- com_reg_ver_win_rate\n",
        "- customer_type\n",
        "- business_area\n",
        "- business_subarea\n",
        "- product_subcategory\n",
        "- product_modelname\n",
        "- customer_country.1\n"
      ],
      "metadata": {
        "id": "bAl50nbLRPGU"
      }
    },
    {
      "cell_type": "markdown",
      "source": [
        "# 새로 만든 칼럼\n",
        "- ver_country\n",
        "- City\n",
        "- Country"
      ],
      "metadata": {
        "id": "TrokaTJRgH4u"
      }
    },
    {
      "cell_type": "markdown",
      "source": [
        "# LG Inquiry-to-buy 참고 해서 바꾼 칼럼\n",
        "- customer_type\n",
        "- product_category\n",
        "- response_corporate"
      ],
      "metadata": {
        "id": "w68C229PgVxS"
      }
    }
  ]
}