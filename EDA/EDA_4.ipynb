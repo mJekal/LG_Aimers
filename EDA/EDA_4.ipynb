{
  "nbformat": 4,
  "nbformat_minor": 0,
  "metadata": {
    "colab": {
      "provenance": []
    },
    "kernelspec": {
      "name": "python3",
      "display_name": "Python 3"
    },
    "language_info": {
      "name": "python"
    }
  },
  "cells": [
    {
      "cell_type": "code",
      "execution_count": 1,
      "metadata": {
        "id": "YLl-k7MnKGLB"
      },
      "outputs": [],
      "source": [
        "import numpy as np\n",
        "import pandas as pd\n",
        "import matplotlib.pyplot as plt\n",
        "import seaborn as sns\n",
        "import missingno as msno\n",
        "import matplotlib as mpl\n",
        "%matplotlib inline\n",
        "pd.set_option('display.max_rows', 100)\n",
        "pd.set_option('display.max_columns', 200)"
      ]
    },
    {
      "cell_type": "code",
      "source": [
        "import os, sys\n",
        "from google.colab import drive\n",
        "drive.mount('/content/gdrive')"
      ],
      "metadata": {
        "colab": {
          "base_uri": "https://localhost:8080/"
        },
        "id": "xXo_9yWPKKLQ",
        "outputId": "52d66c2e-26c9-4fc0-a70a-108d55cfcb2c"
      },
      "execution_count": 2,
      "outputs": [
        {
          "output_type": "stream",
          "name": "stdout",
          "text": [
            "Drive already mounted at /content/gdrive; to attempt to forcibly remount, call drive.mount(\"/content/gdrive\", force_remount=True).\n"
          ]
        }
      ]
    },
    {
      "cell_type": "code",
      "source": [
        "default_dir = \"/content/gdrive/My Drive\"\n",
        "df_train = pd.read_csv(os.path.join(default_dir,\"train.csv\")) # 학습용 데이터\n",
        "df_test = pd.read_csv(os.path.join(default_dir,\"submission.csv\")) # 테스트 데이터(제출파일의 데이터)"
      ],
      "metadata": {
        "id": "XNpulhK1KLLj"
      },
      "execution_count": 3,
      "outputs": []
    },
    {
      "cell_type": "code",
      "source": [
        "df_train.info()"
      ],
      "metadata": {
        "colab": {
          "base_uri": "https://localhost:8080/"
        },
        "id": "R7R4EU26KQ1Z",
        "outputId": "de9dcd5c-addc-4bb4-cb93-bcfcc475cc2c"
      },
      "execution_count": 4,
      "outputs": [
        {
          "output_type": "stream",
          "name": "stdout",
          "text": [
            "<class 'pandas.core.frame.DataFrame'>\n",
            "RangeIndex: 59299 entries, 0 to 59298\n",
            "Data columns (total 29 columns):\n",
            " #   Column                   Non-Null Count  Dtype  \n",
            "---  ------                   --------------  -----  \n",
            " 0   bant_submit              59299 non-null  float64\n",
            " 1   customer_country         58317 non-null  object \n",
            " 2   business_unit            59299 non-null  object \n",
            " 3   com_reg_ver_win_rate     14568 non-null  float64\n",
            " 4   customer_idx             59299 non-null  int64  \n",
            " 5   customer_type            15338 non-null  object \n",
            " 6   enterprise               59299 non-null  object \n",
            " 7   historical_existing_cnt  13756 non-null  float64\n",
            " 8   id_strategic_ver         3444 non-null   float64\n",
            " 9   it_strategic_ver         1121 non-null   float64\n",
            " 10  idit_strategic_ver       4565 non-null   float64\n",
            " 11  customer_job             40566 non-null  object \n",
            " 12  lead_desc_length         59299 non-null  int64  \n",
            " 13  inquiry_type             58358 non-null  object \n",
            " 14  product_category         39925 non-null  object \n",
            " 15  product_subcategory      9235 non-null   object \n",
            " 16  product_modelname        9229 non-null   object \n",
            " 17  customer_country.1       58317 non-null  object \n",
            " 18  customer_position        59299 non-null  object \n",
            " 19  response_corporate       59299 non-null  object \n",
            " 20  expected_timeline        28436 non-null  object \n",
            " 21  ver_cus                  59299 non-null  int64  \n",
            " 22  ver_pro                  59299 non-null  int64  \n",
            " 23  ver_win_rate_x           18417 non-null  float64\n",
            " 24  ver_win_ratio_per_bu     15304 non-null  float64\n",
            " 25  business_area            18417 non-null  object \n",
            " 26  business_subarea         5526 non-null   object \n",
            " 27  lead_owner               59299 non-null  int64  \n",
            " 28  is_converted             59299 non-null  bool   \n",
            "dtypes: bool(1), float64(8), int64(5), object(15)\n",
            "memory usage: 12.7+ MB\n"
          ]
        }
      ]
    },
    {
      "cell_type": "code",
      "source": [
        "# df_train에는 있지만 df_test에는 없는 값을 찾기\n",
        "missing_values = df_train[~df_train['bant_submit'].isin(df_test['bant_submit'])]['bant_submit']\n",
        "missing_values.value_counts(dropna = False)"
      ],
      "metadata": {
        "colab": {
          "base_uri": "https://localhost:8080/"
        },
        "id": "Nl3aTYGKKWrX",
        "outputId": "430e74ff-094e-48af-b414-695f2057de87"
      },
      "execution_count": 5,
      "outputs": [
        {
          "output_type": "execute_result",
          "data": {
            "text/plain": [
              "Series([], Name: bant_submit, dtype: int64)"
            ]
          },
          "metadata": {},
          "execution_count": 5
        }
      ]
    },
    {
      "cell_type": "code",
      "source": [
        "missing_values = df_test[~df_test['bant_submit'].isin(df_train['bant_submit'])]['bant_submit']\n",
        "missing_values.value_counts(dropna = False)"
      ],
      "metadata": {
        "colab": {
          "base_uri": "https://localhost:8080/"
        },
        "id": "st5X9htgKdSf",
        "outputId": "637470ee-acf5-47e9-c351-c949b7feae2d"
      },
      "execution_count": 6,
      "outputs": [
        {
          "output_type": "execute_result",
          "data": {
            "text/plain": [
              "Series([], Name: bant_submit, dtype: int64)"
            ]
          },
          "metadata": {},
          "execution_count": 6
        }
      ]
    },
    {
      "cell_type": "code",
      "source": [
        "# df_train에는 있지만 df_test에는 없는 값을 찾기\n",
        "missing_values = df_train[~df_train['customer_country'].isin(df_test['customer_country'])]['customer_country']\n",
        "missing_values.value_counts(dropna = False)"
      ],
      "metadata": {
        "colab": {
          "base_uri": "https://localhost:8080/"
        },
        "id": "DtGsLx3OLBlc",
        "outputId": "321cea9f-3fab-4d0d-a656-6b50b3c425b2"
      },
      "execution_count": 7,
      "outputs": [
        {
          "output_type": "execute_result",
          "data": {
            "text/plain": [
              "NaN                            982\n",
              "Mexico                         453\n",
              "//Colombia                     403\n",
              "//Egypt                        244\n",
              "/BOGOTÁ/Colombia               194\n",
              "                              ... \n",
              "/Augsburg/Germany                1\n",
              "/Guayas / Guayaquil/Ecuador      1\n",
              "/Bordon/United Kingdom           1\n",
              "/AMK/Singapore                   1\n",
              "/paris/France                    1\n",
              "Name: customer_country, Length: 15014, dtype: int64"
            ]
          },
          "metadata": {},
          "execution_count": 7
        }
      ]
    },
    {
      "cell_type": "code",
      "source": [
        "missing_values = df_test[~df_test['customer_country'].isin(df_train['customer_country'])]['customer_country']\n",
        "missing_values.value_counts(dropna = False)"
      ],
      "metadata": {
        "colab": {
          "base_uri": "https://localhost:8080/"
        },
        "id": "vNO2yH-eLFzF",
        "outputId": "3686a57e-3c5a-4475-e5ec-e63abf45b976"
      },
      "execution_count": 8,
      "outputs": [
        {
          "output_type": "execute_result",
          "data": {
            "text/plain": [
              "/  / Peru                                                       184\n",
              "Corporate /  /                                                  135\n",
              "/  / Brazil                                                     132\n",
              "/  / India                                                      116\n",
              "/  / United States                                               76\n",
              "                                                               ... \n",
              "/ fhfu / India                                                    1\n",
              "/ Tulancingo de Bravo / Mexico                                    1\n",
              "Bldg 14 Saufley Road   / NASNI Coronado / CA / United States      1\n",
              "/ Valparaiso / Viña del Mar / Chile                               1\n",
              "/ Ongole  / India                                                 1\n",
              "Name: customer_country, Length: 2081, dtype: int64"
            ]
          },
          "metadata": {},
          "execution_count": 8
        }
      ]
    },
    {
      "cell_type": "code",
      "source": [
        "# df_train에는 있지만 df_test에는 없는 값을 찾기\n",
        "missing_values = df_train[~df_train['business_unit'].isin(df_test['business_unit'])]['business_unit']\n",
        "missing_values.value_counts(dropna = False)"
      ],
      "metadata": {
        "colab": {
          "base_uri": "https://localhost:8080/"
        },
        "id": "pypQJF6LLIKg",
        "outputId": "8246da3d-c0ea-4639-d969-6d3507c3f876"
      },
      "execution_count": 9,
      "outputs": [
        {
          "output_type": "execute_result",
          "data": {
            "text/plain": [
              "Solution    296\n",
              "CM            2\n",
              "Name: business_unit, dtype: int64"
            ]
          },
          "metadata": {},
          "execution_count": 9
        }
      ]
    },
    {
      "cell_type": "code",
      "source": [
        "missing_values = df_test[~df_test['business_unit'].isin(df_train['business_unit'])]['business_unit']\n",
        "missing_values.value_counts(dropna = False)"
      ],
      "metadata": {
        "colab": {
          "base_uri": "https://localhost:8080/"
        },
        "id": "86R7wOR5LN98",
        "outputId": "93cabe72-6dde-43ea-f1cb-f6cec2c23ce2"
      },
      "execution_count": 10,
      "outputs": [
        {
          "output_type": "execute_result",
          "data": {
            "text/plain": [
              "Series([], Name: business_unit, dtype: int64)"
            ]
          },
          "metadata": {},
          "execution_count": 10
        }
      ]
    },
    {
      "cell_type": "code",
      "source": [
        "# df_train에는 있지만 df_test에는 없는 값을 찾기\n",
        "missing_values = df_train[~df_train['com_reg_ver_win_rate'].isin(df_test['com_reg_ver_win_rate'])]['com_reg_ver_win_rate']\n",
        "missing_values.value_counts(dropna = False)"
      ],
      "metadata": {
        "colab": {
          "base_uri": "https://localhost:8080/"
        },
        "id": "ebbkCCN1LQdG",
        "outputId": "79a29bfc-2bdb-4af0-895b-f6dd0be84ce8"
      },
      "execution_count": 11,
      "outputs": [
        {
          "output_type": "execute_result",
          "data": {
            "text/plain": [
              "0.105263    31\n",
              "0.125000    13\n",
              "0.200000     5\n",
              "Name: com_reg_ver_win_rate, dtype: int64"
            ]
          },
          "metadata": {},
          "execution_count": 11
        }
      ]
    },
    {
      "cell_type": "code",
      "source": [
        "missing_values = df_test[~df_test['com_reg_ver_win_rate'].isin(df_train['com_reg_ver_win_rate'])]['com_reg_ver_win_rate']\n",
        "missing_values.value_counts(dropna = False)"
      ],
      "metadata": {
        "colab": {
          "base_uri": "https://localhost:8080/"
        },
        "id": "bqeWfpfxLT06",
        "outputId": "fca2e4ab-ac3a-4493-d896-a362ed3d88de"
      },
      "execution_count": 12,
      "outputs": [
        {
          "output_type": "execute_result",
          "data": {
            "text/plain": [
              "Series([], Name: com_reg_ver_win_rate, dtype: int64)"
            ]
          },
          "metadata": {},
          "execution_count": 12
        }
      ]
    },
    {
      "cell_type": "code",
      "source": [
        "# df_train에는 있지만 df_test에는 없는 값을 찾기\n",
        "missing_values = df_train[~df_train['customer_idx'].isin(df_test['customer_idx'])]['customer_idx']\n",
        "missing_values.value_counts(dropna = False)"
      ],
      "metadata": {
        "colab": {
          "base_uri": "https://localhost:8080/"
        },
        "id": "jGcBT4-yLV36",
        "outputId": "7ba489ee-ba87-44d9-cd38-8cbe50f3f54f"
      },
      "execution_count": 13,
      "outputs": [
        {
          "output_type": "execute_result",
          "data": {
            "text/plain": [
              "25096    2421\n",
              "43395      91\n",
              "33763      88\n",
              "37654      76\n",
              "29370      61\n",
              "         ... \n",
              "26323       1\n",
              "46          1\n",
              "46215       1\n",
              "8644        1\n",
              "30268       1\n",
              "Name: customer_idx, Length: 34667, dtype: int64"
            ]
          },
          "metadata": {},
          "execution_count": 13
        }
      ]
    },
    {
      "cell_type": "code",
      "source": [
        "missing_values = df_test[~df_test['customer_idx'].isin(df_train['customer_idx'])]['customer_idx']\n",
        "missing_values.value_counts(dropna = False)"
      ],
      "metadata": {
        "colab": {
          "base_uri": "https://localhost:8080/"
        },
        "id": "ES09O2ROLXzQ",
        "outputId": "533ea350-e847-41f2-a363-9dd6eb61f8c0"
      },
      "execution_count": 14,
      "outputs": [
        {
          "output_type": "execute_result",
          "data": {
            "text/plain": [
              "26303    14\n",
              "28290    10\n",
              "35824     9\n",
              "918       9\n",
              "46211     9\n",
              "         ..\n",
              "30709     1\n",
              "6157      1\n",
              "12511     1\n",
              "36870     1\n",
              "23646     1\n",
              "Name: customer_idx, Length: 3624, dtype: int64"
            ]
          },
          "metadata": {},
          "execution_count": 14
        }
      ]
    },
    {
      "cell_type": "code",
      "source": [
        "# df_train에는 있지만 df_test에는 없는 값을 찾기\n",
        "missing_values = df_train[~df_train['customer_type'].isin(df_test['customer_type'])]['customer_type']\n",
        "missing_values.value_counts(dropna = False)"
      ],
      "metadata": {
        "colab": {
          "base_uri": "https://localhost:8080/"
        },
        "id": "2AcQfQyFLch5",
        "outputId": "f4db551a-b018-423c-e365-210bb9570e2c"
      },
      "execution_count": 15,
      "outputs": [
        {
          "output_type": "execute_result",
          "data": {
            "text/plain": [
              "Installer/Contractor            52\n",
              "Specifier / Influencer          43\n",
              "Corporate                       31\n",
              "HVAC Engineer                   23\n",
              "Engineer                        20\n",
              "Technician                      16\n",
              "Consultant                      15\n",
              "Home Owner                      10\n",
              "Other                           10\n",
              "Manager / Director               8\n",
              "End-user                         8\n",
              "Software/Solution Provider       7\n",
              "Etc.                             6\n",
              "Architect/Consultant             5\n",
              "Homeowner                        5\n",
              "Installer                        5\n",
              "Reseller                         5\n",
              "Interior Designer                5\n",
              "Others                           4\n",
              "Distributor                      4\n",
              "System Integrator                2\n",
              "Dealer/Distributor               2\n",
              "Software / Solution Provider     1\n",
              "Technical Assistant              1\n",
              "Commercial end-user              1\n",
              "Administrator                    1\n",
              "Name: customer_type, dtype: int64"
            ]
          },
          "metadata": {},
          "execution_count": 15
        }
      ]
    },
    {
      "cell_type": "code",
      "source": [
        "missing_values = df_test[~df_test['customer_type'].isin(df_train['customer_type'])]['customer_type']\n",
        "missing_values.value_counts(dropna = False)"
      ],
      "metadata": {
        "colab": {
          "base_uri": "https://localhost:8080/"
        },
        "id": "-fbHK-JJLd2z",
        "outputId": "c980c9b0-3dfc-4709-dbf5-62a8341b8495"
      },
      "execution_count": 16,
      "outputs": [
        {
          "output_type": "execute_result",
          "data": {
            "text/plain": [
              "Series([], Name: customer_type, dtype: int64)"
            ]
          },
          "metadata": {},
          "execution_count": 16
        }
      ]
    },
    {
      "cell_type": "code",
      "source": [
        "# df_train에는 있지만 df_test에는 없는 값을 찾기\n",
        "missing_values = df_train[~df_train['enterprise'].isin(df_test['enterprise'])]['enterprise']\n",
        "missing_values.value_counts(dropna = False)"
      ],
      "metadata": {
        "colab": {
          "base_uri": "https://localhost:8080/"
        },
        "id": "bR3tagtILiBY",
        "outputId": "dba67525-4133-4f2c-8a5e-a4b7008d3448"
      },
      "execution_count": 17,
      "outputs": [
        {
          "output_type": "execute_result",
          "data": {
            "text/plain": [
              "Series([], Name: enterprise, dtype: int64)"
            ]
          },
          "metadata": {},
          "execution_count": 17
        }
      ]
    },
    {
      "cell_type": "code",
      "source": [
        "missing_values = df_test[~df_test['enterprise'].isin(df_train['enterprise'])]['enterprise']\n",
        "missing_values.value_counts(dropna = False)"
      ],
      "metadata": {
        "colab": {
          "base_uri": "https://localhost:8080/"
        },
        "id": "YdkiAVlTLihb",
        "outputId": "6cf835ba-5537-4a3d-89c1-a4f146e05289"
      },
      "execution_count": 18,
      "outputs": [
        {
          "output_type": "execute_result",
          "data": {
            "text/plain": [
              "Series([], Name: enterprise, dtype: int64)"
            ]
          },
          "metadata": {},
          "execution_count": 18
        }
      ]
    },
    {
      "cell_type": "code",
      "source": [
        "# df_train에는 있지만 df_test에는 없는 값을 찾기\n",
        "missing_values = df_train[~df_train['historical_existing_cnt'].isin(df_test['historical_existing_cnt'])]['historical_existing_cnt']\n",
        "missing_values.value_counts(dropna = False)"
      ],
      "metadata": {
        "colab": {
          "base_uri": "https://localhost:8080/"
        },
        "id": "vuL0Zg5eLkb1",
        "outputId": "3fb05109-479b-41d0-d95f-bc97e9ada277"
      },
      "execution_count": 19,
      "outputs": [
        {
          "output_type": "execute_result",
          "data": {
            "text/plain": [
              "103.0     63\n",
              "38.0      25\n",
              "52.0      24\n",
              "104.0     24\n",
              "233.0     18\n",
              "58.0      17\n",
              "37.0      13\n",
              "36.0      13\n",
              "56.0      12\n",
              "47.0      11\n",
              "46.0       9\n",
              "44.0       8\n",
              "106.0      8\n",
              "78.0       7\n",
              "88.0       7\n",
              "113.0      6\n",
              "59.0       6\n",
              "75.0       6\n",
              "99.0       5\n",
              "114.0      5\n",
              "73.0       5\n",
              "67.0       4\n",
              "107.0      4\n",
              "66.0       4\n",
              "80.0       4\n",
              "666.0      4\n",
              "900.0      4\n",
              "63.0       3\n",
              "64.0       3\n",
              "130.0      3\n",
              "838.0      3\n",
              "117.0      3\n",
              "154.0      3\n",
              "50.0       3\n",
              "76.0       3\n",
              "153.0      3\n",
              "144.0      3\n",
              "89.0       3\n",
              "85.0       3\n",
              "166.0      3\n",
              "71.0       2\n",
              "92.0       2\n",
              "131.0      2\n",
              "192.0      2\n",
              "109.0      2\n",
              "81.0       2\n",
              "472.0      2\n",
              "324.0      2\n",
              "304.0      2\n",
              "406.0      2\n",
              "102.0      2\n",
              "77.0       2\n",
              "110.0      2\n",
              "174.0      2\n",
              "175.0      1\n",
              "168.0      1\n",
              "72.0       1\n",
              "189.0      1\n",
              "136.0      1\n",
              "54.0       1\n",
              "167.0      1\n",
              "97.0       1\n",
              "1104.0     1\n",
              "212.0      1\n",
              "43.0       1\n",
              "84.0       1\n",
              "404.0      1\n",
              "69.0       1\n",
              "145.0      1\n",
              "1394.0     1\n",
              "199.0      1\n",
              "158.0      1\n",
              "162.0      1\n",
              "108.0      1\n",
              "Name: historical_existing_cnt, dtype: int64"
            ]
          },
          "metadata": {},
          "execution_count": 19
        }
      ]
    },
    {
      "cell_type": "code",
      "source": [
        "missing_values = df_test[~df_test['historical_existing_cnt'].isin(df_train['historical_existing_cnt'])]['historical_existing_cnt']\n",
        "missing_values.value_counts(dropna = False)"
      ],
      "metadata": {
        "colab": {
          "base_uri": "https://localhost:8080/"
        },
        "id": "tZOhDrbvLlGj",
        "outputId": "ba9cd23a-fb84-429b-8c8b-cb8d089afb0e"
      },
      "execution_count": 20,
      "outputs": [
        {
          "output_type": "execute_result",
          "data": {
            "text/plain": [
              "223.0     4\n",
              "143.0     3\n",
              "204.0     3\n",
              "65.0      3\n",
              "98.0      1\n",
              "179.0     1\n",
              "2219.0    1\n",
              "244.0     1\n",
              "139.0     1\n",
              "148.0     1\n",
              "243.0     1\n",
              "155.0     1\n",
              "Name: historical_existing_cnt, dtype: int64"
            ]
          },
          "metadata": {},
          "execution_count": 20
        }
      ]
    },
    {
      "cell_type": "code",
      "source": [
        "# df_train에는 있지만 df_test에는 없는 값을 찾기\n",
        "missing_values = df_train[~df_train['id_strategic_ver'].isin(df_test['id_strategic_ver'])]['id_strategic_ver']\n",
        "missing_values.value_counts(dropna = False)"
      ],
      "metadata": {
        "colab": {
          "base_uri": "https://localhost:8080/"
        },
        "id": "heZ7ysQ7LoEV",
        "outputId": "9760e929-de7f-4ff3-c1ca-535eced9d711"
      },
      "execution_count": 21,
      "outputs": [
        {
          "output_type": "execute_result",
          "data": {
            "text/plain": [
              "Series([], Name: id_strategic_ver, dtype: int64)"
            ]
          },
          "metadata": {},
          "execution_count": 21
        }
      ]
    },
    {
      "cell_type": "code",
      "source": [
        "missing_values = df_test[~df_test['id_strategic_ver'].isin(df_train['id_strategic_ver'])]['id_strategic_ver']\n",
        "missing_values.value_counts(dropna = False)"
      ],
      "metadata": {
        "colab": {
          "base_uri": "https://localhost:8080/"
        },
        "id": "A_sSxky9LmwR",
        "outputId": "03357e77-6ea6-467b-c782-99d8158916f7"
      },
      "execution_count": 22,
      "outputs": [
        {
          "output_type": "execute_result",
          "data": {
            "text/plain": [
              "Series([], Name: id_strategic_ver, dtype: int64)"
            ]
          },
          "metadata": {},
          "execution_count": 22
        }
      ]
    },
    {
      "cell_type": "code",
      "source": [
        "# df_train에는 있지만 df_test에는 없는 값을 찾기\n",
        "missing_values = df_train[~df_train['it_strategic_ver'].isin(df_test['it_strategic_ver'])]['it_strategic_ver']\n",
        "missing_values.value_counts(dropna = False)"
      ],
      "metadata": {
        "colab": {
          "base_uri": "https://localhost:8080/"
        },
        "id": "_8A49U5MLovt",
        "outputId": "104ce415-8161-458a-fb83-21ccac429906"
      },
      "execution_count": 23,
      "outputs": [
        {
          "output_type": "execute_result",
          "data": {
            "text/plain": [
              "Series([], Name: it_strategic_ver, dtype: int64)"
            ]
          },
          "metadata": {},
          "execution_count": 23
        }
      ]
    },
    {
      "cell_type": "code",
      "source": [
        "missing_values = df_test[~df_test['it_strategic_ver'].isin(df_train['it_strategic_ver'])]['it_strategic_ver']\n",
        "missing_values.value_counts(dropna = False)"
      ],
      "metadata": {
        "colab": {
          "base_uri": "https://localhost:8080/"
        },
        "id": "Vb-GxmT8Lmjo",
        "outputId": "0a509daa-5fa0-44a9-8cab-0e11414dc53e"
      },
      "execution_count": 24,
      "outputs": [
        {
          "output_type": "execute_result",
          "data": {
            "text/plain": [
              "Series([], Name: it_strategic_ver, dtype: int64)"
            ]
          },
          "metadata": {},
          "execution_count": 24
        }
      ]
    },
    {
      "cell_type": "code",
      "source": [
        "# df_train에는 있지만 df_test에는 없는 값을 찾기\n",
        "missing_values = df_train[~df_train['idit_strategic_ver'].isin(df_test['idit_strategic_ver'])]['idit_strategic_ver']\n",
        "missing_values.value_counts(dropna = False)"
      ],
      "metadata": {
        "colab": {
          "base_uri": "https://localhost:8080/"
        },
        "id": "Y0sOzQ3_LpH1",
        "outputId": "f1d94811-89ed-469d-ec27-9874cb36961a"
      },
      "execution_count": 25,
      "outputs": [
        {
          "output_type": "execute_result",
          "data": {
            "text/plain": [
              "Series([], Name: idit_strategic_ver, dtype: int64)"
            ]
          },
          "metadata": {},
          "execution_count": 25
        }
      ]
    },
    {
      "cell_type": "code",
      "source": [
        "missing_values = df_test[~df_test['idit_strategic_ver'].isin(df_train['idit_strategic_ver'])]['idit_strategic_ver']\n",
        "missing_values.value_counts(dropna = False)"
      ],
      "metadata": {
        "colab": {
          "base_uri": "https://localhost:8080/"
        },
        "id": "8d2KNktwLmWj",
        "outputId": "467b4b9e-0c5a-4f29-874e-a7711c9e6079"
      },
      "execution_count": 26,
      "outputs": [
        {
          "output_type": "execute_result",
          "data": {
            "text/plain": [
              "Series([], Name: idit_strategic_ver, dtype: int64)"
            ]
          },
          "metadata": {},
          "execution_count": 26
        }
      ]
    },
    {
      "cell_type": "code",
      "source": [
        "# df_train에는 있지만 df_test에는 없는 값을 찾기\n",
        "missing_values = df_train[~df_train['customer_job'].isin(df_test['customer_job'])]['customer_job']\n",
        "missing_values.value_counts(dropna = False)"
      ],
      "metadata": {
        "colab": {
          "base_uri": "https://localhost:8080/"
        },
        "id": "Jehqr7ywLpoN",
        "outputId": "d01b1b14-7ee3-4174-8f13-384e6d1146fb"
      },
      "execution_count": 27,
      "outputs": [
        {
          "output_type": "execute_result",
          "data": {
            "text/plain": [
              "graphic/color art                 331\n",
              "owner                              57\n",
              "manager                            53\n",
              "project manager                    46\n",
              "art and design                     28\n",
              "                                 ... \n",
              "appliance specialist                1\n",
              "av estimator                        1\n",
              "purchasers                          1\n",
              "pricing                             1\n",
              "exhibition / convention center      1\n",
              "Name: customer_job, Length: 521, dtype: int64"
            ]
          },
          "metadata": {},
          "execution_count": 27
        }
      ]
    },
    {
      "cell_type": "code",
      "source": [
        "missing_values = df_test[~df_test['customer_job'].isin(df_train['customer_job'])]['customer_job']\n",
        "missing_values.value_counts(dropna = False)"
      ],
      "metadata": {
        "colab": {
          "base_uri": "https://localhost:8080/"
        },
        "id": "UIJsoMA2LmJq",
        "outputId": "4840447c-91ba-42f6-d0c1-4089e74775ad"
      },
      "execution_count": 28,
      "outputs": [
        {
          "output_type": "execute_result",
          "data": {
            "text/plain": [
              "healthcare    2\n",
              "k12 school    1\n",
              "Name: customer_job, dtype: int64"
            ]
          },
          "metadata": {},
          "execution_count": 28
        }
      ]
    },
    {
      "cell_type": "code",
      "source": [
        "# df_train에는 있지만 df_test에는 없는 값을 찾기\n",
        "missing_values = df_train[~df_train['lead_desc_length'].isin(df_test['lead_desc_length'])]['lead_desc_length']\n",
        "missing_values.value_counts(dropna = False)"
      ],
      "metadata": {
        "colab": {
          "base_uri": "https://localhost:8080/"
        },
        "id": "XIOIqrS4LqBG",
        "outputId": "2fae5cca-b2ff-4f7b-b43c-6da2f5fa486c"
      },
      "execution_count": 29,
      "outputs": [
        {
          "output_type": "execute_result",
          "data": {
            "text/plain": [
              "170     67\n",
              "210     43\n",
              "216     43\n",
              "247     41\n",
              "190     39\n",
              "        ..\n",
              "1198     1\n",
              "907      1\n",
              "613      1\n",
              "676      1\n",
              "1022     1\n",
              "Name: lead_desc_length, Length: 445, dtype: int64"
            ]
          },
          "metadata": {},
          "execution_count": 29
        }
      ]
    },
    {
      "cell_type": "code",
      "source": [
        "missing_values = df_test[~df_test['lead_desc_length'].isin(df_train['lead_desc_length'])]['lead_desc_length']\n",
        "missing_values.value_counts(dropna = False)"
      ],
      "metadata": {
        "colab": {
          "base_uri": "https://localhost:8080/"
        },
        "id": "7tXP7N-yLl6N",
        "outputId": "da449603-bdff-47e8-b1a7-43234ccf6719"
      },
      "execution_count": 30,
      "outputs": [
        {
          "output_type": "execute_result",
          "data": {
            "text/plain": [
              "743     2\n",
              "736     2\n",
              "1056    1\n",
              "658     1\n",
              "1035    1\n",
              "633     1\n",
              "772     1\n",
              "923     1\n",
              "739     1\n",
              "1051    1\n",
              "1143    1\n",
              "917     1\n",
              "970     1\n",
              "980     1\n",
              "681     1\n",
              "703     1\n",
              "600     1\n",
              "Name: lead_desc_length, dtype: int64"
            ]
          },
          "metadata": {},
          "execution_count": 30
        }
      ]
    },
    {
      "cell_type": "code",
      "source": [
        "# df_train에는 있지만 df_test에는 없는 값을 찾기\n",
        "missing_values = df_train[~df_train['inquiry_type'].isin(df_test['inquiry_type'])]['inquiry_type']\n",
        "missing_values.value_counts(dropna = False)"
      ],
      "metadata": {
        "colab": {
          "base_uri": "https://localhost:8080/"
        },
        "id": "Wes17JMaMEEU",
        "outputId": "b0cfed6b-c2a6-4419-a2f5-974c2166a489"
      },
      "execution_count": 31,
      "outputs": [
        {
          "output_type": "execute_result",
          "data": {
            "text/plain": [
              "Quotation or purchase consultation                                                                                     23274\n",
              "Sales Inquiry                                                                                                           9977\n",
              "Usage or technical consultation                                                                                          668\n",
              "Request for quotation or purchase                                                                                        230\n",
              "usage or technical consultation                                                                                          160\n",
              "ETC.                                                                                                                     158\n",
              "Technical Support                                                                                                        110\n",
              "sales                                                                                                                    100\n",
              "quotation_or_purchase_consultation                                                                                        95\n",
              "Etc.                                                                                                                      63\n",
              "Request for technical consulting                                                                                          37\n",
              "other                                                                                                                     22\n",
              "Purchase or Quotation                                                                                                     10\n",
              "usage_or_technical_consultation                                                                                           10\n",
              "IDB                                                                                                                       10\n",
              "technical                                                                                                                  8\n",
              "Event Inquiry                                                                                                              5\n",
              "Purchase                                                                                                                   5\n",
              "Sales inquiry                                                                                                              4\n",
              "technical_consultation                                                                                                     4\n",
              "Quotation or Purchase consultation                                                                                         3\n",
              "Video Wall                                                                                                                 2\n",
              "Vui lòng báo giá giúp mình sản phẩm đo thân nhiệt Xin cảm ơn                                                               2\n",
              "Toi muon tim hieu thong tin ky thuat, gia ca cua sp de su dung                                                             2\n",
              "tôi cần tham khảo giá và giải pháp từ LG                                                                                   2\n",
              "Probeam precio                                                                                                             2\n",
              "Standalone                                                                                                                 1\n",
              "LED Signage                                                                                                                1\n",
              "for school                                                                                                                 1\n",
              "Not specified                                                                                                              1\n",
              "Intégrateur historique du George V                                                                                         1\n",
              "Solicito apoyo para realizar cotizacion de los dispositivos que ofrecen en la solución One Quick:                          1\n",
              "Preciso de um monitor médico para radiografia convencional e tomogrtafia.                                                  1\n",
              "Pantallas Interactivas para Clinicas                                                                                       1\n",
              "Hotel TV products                                                                                                          1\n",
              "VRF                                                                                                                        1\n",
              "High inch 86 / 98 or 110                                                                                                   1\n",
              "window facing product                                                                                                      1\n",
              "EDUCATIONAL EQUIPMENTS                                                                                                     1\n",
              "(Select ID_Needs)                                                                                                          1\n",
              "One Quick:Flex                                                                                                             1\n",
              "AIO                                                                                                                        1\n",
              "Needs                                                                                                                      1\n",
              "Hospital TV                                                                                                                1\n",
              "others                                                                                                                     1\n",
              "i want to know the details about it                                                                                        1\n",
              "Digital platform                                                                                                           1\n",
              "Hola me pueden cotizar 19 pantallas interactivas de 100 pulgadas entregadas en Guayaquil -Ecuador.                         1\n",
              "TV interactive                                                                                                             1\n",
              "teach                                                                                                                      1\n",
              "Display Textbook and photos                                                                                                1\n",
              "quotation_                                                                                                                 1\n",
              "display product                                                                                                            1\n",
              "first Info and pricing                                                                                                     1\n",
              "estoy buscando para Ecuador este producto LG MAGNIT micro LED, para un cliente de 138 pulgadas, con envió marítimo.        1\n",
              "Evento_SdelEstero                                                                                                          1\n",
              "Name: inquiry_type, dtype: int64"
            ]
          },
          "metadata": {},
          "execution_count": 31
        }
      ]
    },
    {
      "cell_type": "code",
      "source": [
        "missing_values = df_test[~df_test['inquiry_type'].isin(df_train['inquiry_type'])]['inquiry_type']\n",
        "missing_values.value_counts(dropna = False)"
      ],
      "metadata": {
        "colab": {
          "base_uri": "https://localhost:8080/"
        },
        "id": "xLJTnYXgMICH",
        "outputId": "aea621ad-eb43-4050-d60b-102c39467c24"
      },
      "execution_count": 32,
      "outputs": [
        {
          "output_type": "execute_result",
          "data": {
            "text/plain": [
              "Series([], Name: inquiry_type, dtype: int64)"
            ]
          },
          "metadata": {},
          "execution_count": 32
        }
      ]
    },
    {
      "cell_type": "code",
      "source": [
        "# df_train에는 있지만 df_test에는 없는 값을 찾기\n",
        "missing_values = df_train[~df_train['product_category'].isin(df_test['product_category'])]['product_category']\n",
        "missing_values.value_counts(dropna = False)"
      ],
      "metadata": {
        "colab": {
          "base_uri": "https://localhost:8080/"
        },
        "id": "ZTk2vQv7MHRq",
        "outputId": "b35bd814-ffcd-4c3e-f065-a6b94f776b2e"
      },
      "execution_count": 33,
      "outputs": [
        {
          "output_type": "execute_result",
          "data": {
            "text/plain": [
              "rac                                           1447\n",
              "lg one:quick series                            768\n",
              "teto ou cassete inverter                       308\n",
              "multi inverter                                 257\n",
              "ar condicionado residencial                    224\n",
              "                                              ... \n",
              "system ac                                        1\n",
              "sac                                              1\n",
              "laec015-gn.awz                                   1\n",
              "gscd046                                          1\n",
              "monior/monitor tv,refrigerator,audio/video       1\n",
              "Name: product_category, Length: 326, dtype: int64"
            ]
          },
          "metadata": {},
          "execution_count": 33
        }
      ]
    },
    {
      "cell_type": "code",
      "source": [
        "missing_values = df_test[~df_test['product_category'].isin(df_train['product_category'])]['product_category']\n",
        "missing_values.value_counts(dropna = False)"
      ],
      "metadata": {
        "colab": {
          "base_uri": "https://localhost:8080/"
        },
        "id": "wj2bz4aFMasQ",
        "outputId": "327bb734-aa96-462b-8910-af172c8bd80d"
      },
      "execution_count": 35,
      "outputs": [
        {
          "output_type": "execute_result",
          "data": {
            "text/plain": [
              "ess         4\n",
              "notebook    1\n",
              "Name: product_category, dtype: int64"
            ]
          },
          "metadata": {},
          "execution_count": 35
        }
      ]
    },
    {
      "cell_type": "code",
      "source": [
        "# df_train에는 있지만 df_test에는 없는 값을 찾기\n",
        "missing_values = df_train[~df_train['product_subcategory'].isin(df_test['product_subcategory'])]['product_subcategory']\n",
        "missing_values.value_counts(dropna = False)"
      ],
      "metadata": {
        "colab": {
          "base_uri": "https://localhost:8080/"
        },
        "id": "BVGTyLXwMHHr",
        "outputId": "e5565584-1ccc-4301-8ea2-be8fb040ee6b"
      },
      "execution_count": 36,
      "outputs": [
        {
          "output_type": "execute_result",
          "data": {
            "text/plain": [
              "One:Quick Share                    60\n",
              "OneQuick Flex                      58\n",
              "SVH7F Series                       55\n",
              "US662H Series                      48\n",
              "TC3D Series                        38\n",
              "                                   ..\n",
              "其他                                  1\n",
              "Not available as a split system     1\n",
              "Required the Multi Split            1\n",
              "Required Only Multi Split           1\n",
              "EVR                                 1\n",
              "Name: product_subcategory, Length: 206, dtype: int64"
            ]
          },
          "metadata": {},
          "execution_count": 36
        }
      ]
    },
    {
      "cell_type": "code",
      "source": [
        "missing_values = df_test[~df_test['product_subcategory'].isin(df_train['product_subcategory'])]['product_subcategory']\n",
        "missing_values.value_counts(dropna = False)"
      ],
      "metadata": {
        "colab": {
          "base_uri": "https://localhost:8080/"
        },
        "id": "f1psKEi0MIhF",
        "outputId": "2f74f703-7fc9-43b9-8f99-aee933987b45"
      },
      "execution_count": 34,
      "outputs": [
        {
          "output_type": "execute_result",
          "data": {
            "text/plain": [
              "ESS                                                                                                     5\n",
              "Heat Pump Water Heater                                                                                  2\n",
              "VRF,Multi-Split                                                                                         2\n",
              "SURGICAL                                                                                                2\n",
              "CineBeam                                                                                                2\n",
              "LG Indoor LED                                                                                           2\n",
              "VRF,Multi-Split,Single-Split                                                                            2\n",
              "LG Miraclass                                                                                            2\n",
              "VRF,Multi-Split,Single-Split,Heating                                                                    1\n",
              "T-OLED                                                                                                  1\n",
              "Essential Commercial TV                                                                                 1\n",
              "Videowall                                                                                               1\n",
              "3.0 TR -1 Nos. Cassette                                                                                 1\n",
              "AN960H Series                                                                                           1\n",
              "Energy storage, Home automation, PV modules, Solar & water, Solar heating and cooling, hot water, po    1\n",
              "LG Miraclass, 4K Resolution, 5m Screen                                                                  1\n",
              "UT577H Series                                                                                           1\n",
              "VRF,Multi-Split,Single-Split,Chiller,Heating,Etc.                                                       1\n",
              "VRF,Single-Split,Chiller                                                                                1\n",
              "one way - 1 nos.                                                                                        1\n",
              "Interactive                                                                                             1\n",
              "LG LED All-in-One                                                                                       1\n",
              "VRF,Multi-Split,Single-Split,Chiller,Heating                                                            1\n",
              "Medical Displays- Surgical- ALL                                                                         1\n",
              "PVs, PV modules                                                                                         1\n",
              "Cirugia                                                                                                 1\n",
              "Name: product_subcategory, dtype: int64"
            ]
          },
          "metadata": {},
          "execution_count": 34
        }
      ]
    },
    {
      "cell_type": "code",
      "source": [
        "# df_train에는 있지만 df_test에는 없는 값을 찾기\n",
        "missing_values = df_train[~df_train['product_modelname'].isin(df_test['product_modelname'])]['product_modelname']\n",
        "missing_values.value_counts(dropna = False)"
      ],
      "metadata": {
        "colab": {
          "base_uri": "https://localhost:8080/"
        },
        "id": "MBMfZl04MG-I",
        "outputId": "83cff460-c98d-4f81-b2ff-b892034c27b1"
      },
      "execution_count": 37,
      "outputs": [
        {
          "output_type": "execute_result",
          "data": {
            "text/plain": [
              "28MQ780                 479\n",
              "All Medical Displays    350\n",
              "Diagnostic Monitors     167\n",
              "Ergo Dual(27QP88D)      167\n",
              "DualUp(28MQ780)         139\n",
              "                       ... \n",
              "86UL3J                    1\n",
              "55US660H0SD.BWZ           1\n",
              "43UT662M (MEA)            1\n",
              "50US665H (ASIA)           1\n",
              "55US660H (SCA)            1\n",
              "Name: product_modelname, Length: 509, dtype: int64"
            ]
          },
          "metadata": {},
          "execution_count": 37
        }
      ]
    },
    {
      "cell_type": "code",
      "source": [
        "missing_values = df_test[~df_test['product_modelname'].isin(df_train['product_modelname'])]['product_modelname']\n",
        "missing_values.value_counts(dropna = False)"
      ],
      "metadata": {
        "colab": {
          "base_uri": "https://localhost:8080/"
        },
        "id": "o6qURHYEMJWh",
        "outputId": "ec83847c-b0ad-47c9-cd17-4065cd79ec27"
      },
      "execution_count": 38,
      "outputs": [
        {
          "output_type": "execute_result",
          "data": {
            "text/plain": [
              "MAGNIT                                 6\n",
              "86TR3DK-BG                             3\n",
              "65TR3DK-BG                             3\n",
              "LDAA012                                3\n",
              "43LT340C (ASIA)                        2\n",
              "43UN700T                               2\n",
              "75TR3DK-BG                             1\n",
              "55TR3DK-BM                             1\n",
              "86TR3DK-BM                             1\n",
              "Radiology                              1\n",
              "55UT640S (EU)                          1\n",
              "75UR640S (MEA)                         1\n",
              "49VL5GM                                1\n",
              "manager                                1\n",
              "98TR3PJ, 86TR3DK & 75TR3DK             1\n",
              "43UQ751C (EU/CIS)                      1\n",
              "50UN570H (NA)                          1\n",
              "27HJ510S                               1\n",
              "55AN960H (EU)                          1\n",
              "Conference room                        1\n",
              "43LT340C (NA)                          1\n",
              "LSBE015                                1\n",
              "GSCD100-GN                             1\n",
              "LAEC018                                1\n",
              "55UT577H (NA)                          1\n",
              "55TR3DK/65TR3DK                        1\n",
              "LSVP(Digital Signage)                  1\n",
              "LBAF015                                1\n",
              "Integrated LSVP                        1\n",
              "28LT340C (CIS)                         1\n",
              "Createboard                            1\n",
              "27HK510S, 27HQ710S,32HL714S, 55MH5K    1\n",
              "24MP88HV                               1\n",
              "LAAA015                                1\n",
              "Name: product_modelname, dtype: int64"
            ]
          },
          "metadata": {},
          "execution_count": 38
        }
      ]
    },
    {
      "cell_type": "code",
      "source": [
        "# df_train에는 있지만 df_test에는 없는 값을 찾기\n",
        "missing_values = df_train[~df_train['customer_position'].isin(df_test['customer_position'])]['customer_position']\n",
        "missing_values.value_counts(dropna = False)"
      ],
      "metadata": {
        "colab": {
          "base_uri": "https://localhost:8080/"
        },
        "id": "Tn9uBdnoMGz2",
        "outputId": "bece998b-73cb-497d-89d2-406e435070fb"
      },
      "execution_count": 39,
      "outputs": [
        {
          "output_type": "execute_result",
          "data": {
            "text/plain": [
              "end-user                                                   424\n",
              "hospital                                                   201\n",
              "installer                                                   60\n",
              "government                                                  29\n",
              "cargo                                                       27\n",
              "software /solution provider                                 25\n",
              "manufacturer                                                23\n",
              "consultant                                                  23\n",
              "system integrator                                           21\n",
              "homeowner                                                   21\n",
              "unpaid                                                      17\n",
              "employee                                                    14\n",
              "vicepresident                                               11\n",
              "medical device manufacturer                                 11\n",
              "decision maker                                               9\n",
              "decision influencer                                          9\n",
              "engineering                                                  9\n",
              "bulgaria                                                     8\n",
              "leadership/executive office/owner                            8\n",
              "not applicable                                               7\n",
              "decision-influencer                                          7\n",
              "commercial end-user                                          7\n",
              "c-levelexecutive                                             6\n",
              "administrative                                               5\n",
              "decision-maker                                               3\n",
              "no influence                                                 3\n",
              "gerente                                                      3\n",
              "entrepreneurship                                             3\n",
              "exhibition                                                   3\n",
              "entrylevel                                                   3\n",
              "medical imaging specialist                                   3\n",
              "operations                                                   3\n",
              "physics teacher                                              3\n",
              "principal at oxford integrated pu science college            2\n",
              "professor of mathematics                                     2\n",
              "other - please specify - cedia association                   2\n",
              "consulting                                                   2\n",
              "business development                                         2\n",
              "physics and mathematics teacher                              2\n",
              "business partner                                             2\n",
              "principal & director                                         2\n",
              "av management                                                2\n",
              "founder                                                      2\n",
              "architect/consultant                                         2\n",
              "ceo/fundador                                                 2\n",
              "academic specialist                                          2\n",
              "science teacher                                              2\n",
              "prof.                                                        2\n",
              "professional trainer                                         1\n",
              "associate professor in electronics engg                      1\n",
              "tierarzt                                                     1\n",
              "education                                                    1\n",
              "subsidiary sales (ise)                                       1\n",
              "chief executive officer                                      1\n",
              "this is a consume display requirement for home purpose.      1\n",
              "president                                                    1\n",
              "business development/sales                                   1\n",
              "sales                                                        1\n",
              "técnico                                                      1\n",
              "exhibitiontv                                                 1\n",
              "proprietário(a)                                              1\n",
              "genel müdür                                                  1\n",
              "mindenes                                                     1\n",
              "senior lecturer                                              1\n",
              "főorvos                                                      1\n",
              "surgery professional                                         1\n",
              "pathologist                                                  1\n",
              "research                                                     1\n",
              "the big boss                                                 1\n",
              "neet/ olympiad expert faculty                                1\n",
              "career coach                                                 1\n",
              "teacher                                                      1\n",
              "chemistry teacher                                            1\n",
              "maths lecturer                                               1\n",
              "lider de desarrollo                                          1\n",
              "commercial consultant                                        1\n",
              "technical                                                    1\n",
              "architecture/consult                                         1\n",
              "distributor                                                  1\n",
              "business unit director                                       1\n",
              "vp                                                           1\n",
              "guest faculty                                                1\n",
              "physics faculty                                              1\n",
              "product management                                           1\n",
              "market intelligence/research                                 1\n",
              "teacher/middle school coordinator                            1\n",
              "assistant professor of enlish                                1\n",
              "quantitative aptitude faculty                                1\n",
              "english trainer for ielts,toefl,pte,gre,sat exams.           1\n",
              "associate professor                                          1\n",
              "hon dean                                                     1\n",
              "chairman                                                     1\n",
              "pgt physics                                                  1\n",
              "education professional                                       1\n",
              "radiology professional                                       1\n",
              "Name: customer_position, dtype: int64"
            ]
          },
          "metadata": {},
          "execution_count": 39
        }
      ]
    },
    {
      "cell_type": "code",
      "source": [
        "missing_values = df_test[~df_test['customer_position'].isin(df_train['customer_position'])]['customer_position']\n",
        "missing_values.value_counts(dropna = False)"
      ],
      "metadata": {
        "colab": {
          "base_uri": "https://localhost:8080/"
        },
        "id": "Q_p0kPhOMJty",
        "outputId": "d41ead9c-2464-4696-cbd8-1041b519cef5"
      },
      "execution_count": 40,
      "outputs": [
        {
          "output_type": "execute_result",
          "data": {
            "text/plain": [
              "pgt chemistry    1\n",
              "Name: customer_position, dtype: int64"
            ]
          },
          "metadata": {},
          "execution_count": 40
        }
      ]
    },
    {
      "cell_type": "code",
      "source": [
        "# df_train에는 있지만 df_test에는 없는 값을 찾기\n",
        "missing_values = df_train[~df_train['response_corporate'].isin(df_test['response_corporate'])]['response_corporate']\n",
        "missing_values.value_counts(dropna = False)"
      ],
      "metadata": {
        "colab": {
          "base_uri": "https://localhost:8080/"
        },
        "id": "hkG2sbqGMGpq",
        "outputId": "7e98a419-5425-458c-8fc4-51d91c1a0d92"
      },
      "execution_count": 41,
      "outputs": [
        {
          "output_type": "execute_result",
          "data": {
            "text/plain": [
              "LGEKR    433\n",
              "LGETT     47\n",
              "LGEJP     41\n",
              "LGESW     31\n",
              "LGEMC     30\n",
              "LGEEB     13\n",
              "LGERA      8\n",
              "LGECZ      7\n",
              "LGELA      2\n",
              "LGEUR      1\n",
              "LGEIR      1\n",
              "LGEBT      1\n",
              "Name: response_corporate, dtype: int64"
            ]
          },
          "metadata": {},
          "execution_count": 41
        }
      ]
    },
    {
      "cell_type": "code",
      "source": [
        "missing_values = df_test[~df_test['response_corporate'].isin(df_train['response_corporate'])]['response_corporate']\n",
        "missing_values.value_counts(dropna = False)"
      ],
      "metadata": {
        "colab": {
          "base_uri": "https://localhost:8080/"
        },
        "id": "p2poQWtsMNiH",
        "outputId": "73e89c86-04f2-43a3-8923-e87fe3797111"
      },
      "execution_count": 42,
      "outputs": [
        {
          "output_type": "execute_result",
          "data": {
            "text/plain": [
              "Series([], Name: response_corporate, dtype: int64)"
            ]
          },
          "metadata": {},
          "execution_count": 42
        }
      ]
    },
    {
      "cell_type": "code",
      "source": [
        "# df_train에는 있지만 df_test에는 없는 값을 찾기\n",
        "missing_values = df_train[~df_train['expected_timeline'].isin(df_test['expected_timeline'])]['expected_timeline']\n",
        "missing_values.value_counts(dropna = False)"
      ],
      "metadata": {
        "colab": {
          "base_uri": "https://localhost:8080/"
        },
        "id": "E7WXnpcIMGeR",
        "outputId": "4340ca9f-37f5-435c-bd28-4d7d90a80e4f"
      },
      "execution_count": 44,
      "outputs": [
        {
          "output_type": "execute_result",
          "data": {
            "text/plain": [
              "less than 6 months                                  108\n",
              "etc.                                                 95\n",
              "less_than_3_months                                   76\n",
              "being followed up                                    66\n",
              "being followed up.                                   24\n",
              "                                                   ... \n",
              "not answering call, will try to reach him again.      1\n",
              "cms reqired                                           1\n",
              "no requirement of this time                           1\n",
              "not reachable , lead shared with partner              1\n",
              "up to december                                        1\n",
              "Name: expected_timeline, Length: 444, dtype: int64"
            ]
          },
          "metadata": {},
          "execution_count": 44
        }
      ]
    },
    {
      "cell_type": "code",
      "source": [
        "missing_values = df_test[~df_test['expected_timeline'].isin(df_train['expected_timeline'])]['expected_timeline']\n",
        "missing_values.value_counts(dropna = False)"
      ],
      "metadata": {
        "colab": {
          "base_uri": "https://localhost:8080/"
        },
        "id": "qJ9fMwV_MOMH",
        "outputId": "d16192d4-7bd4-483e-c06a-79cd08a0ec3c"
      },
      "execution_count": 45,
      "outputs": [
        {
          "output_type": "execute_result",
          "data": {
            "text/plain": [
              "Series([], Name: expected_timeline, dtype: int64)"
            ]
          },
          "metadata": {},
          "execution_count": 45
        }
      ]
    },
    {
      "cell_type": "code",
      "source": [
        "# df_train에는 있지만 df_test에는 없는 값을 찾기\n",
        "missing_values = df_train[~df_train['ver_cus'].isin(df_test['ver_cus'])]['ver_cus']\n",
        "missing_values.value_counts(dropna = False)"
      ],
      "metadata": {
        "colab": {
          "base_uri": "https://localhost:8080/"
        },
        "id": "o6gd9GYdMGPA",
        "outputId": "3f31aa9d-e480-4673-95b4-f225b3a92c9f"
      },
      "execution_count": 46,
      "outputs": [
        {
          "output_type": "execute_result",
          "data": {
            "text/plain": [
              "Series([], Name: ver_cus, dtype: int64)"
            ]
          },
          "metadata": {},
          "execution_count": 46
        }
      ]
    },
    {
      "cell_type": "code",
      "source": [
        "missing_values = df_test[~df_test['ver_cus'].isin(df_train['ver_cus'])]['ver_cus']\n",
        "missing_values.value_counts(dropna = False)"
      ],
      "metadata": {
        "colab": {
          "base_uri": "https://localhost:8080/"
        },
        "id": "eDJLY6yWMOgb",
        "outputId": "cda830b4-350a-4d2e-9ad8-8f605861d6fb"
      },
      "execution_count": 47,
      "outputs": [
        {
          "output_type": "execute_result",
          "data": {
            "text/plain": [
              "Series([], Name: ver_cus, dtype: int64)"
            ]
          },
          "metadata": {},
          "execution_count": 47
        }
      ]
    },
    {
      "cell_type": "code",
      "source": [
        "# df_train에는 있지만 df_test에는 없는 값을 찾기\n",
        "missing_values = df_train[~df_train['ver_pro'].isin(df_test['ver_pro'])]['ver_pro']\n",
        "missing_values.value_counts(dropna = False)"
      ],
      "metadata": {
        "colab": {
          "base_uri": "https://localhost:8080/"
        },
        "id": "Rrp-B8bIMGB4",
        "outputId": "69a12675-32ec-45ed-8919-6717070d2730"
      },
      "execution_count": 48,
      "outputs": [
        {
          "output_type": "execute_result",
          "data": {
            "text/plain": [
              "Series([], Name: ver_pro, dtype: int64)"
            ]
          },
          "metadata": {},
          "execution_count": 48
        }
      ]
    },
    {
      "cell_type": "code",
      "source": [
        "missing_values = df_test[~df_test['ver_pro'].isin(df_train['ver_pro'])]['ver_pro']\n",
        "missing_values.value_counts(dropna = False)"
      ],
      "metadata": {
        "colab": {
          "base_uri": "https://localhost:8080/"
        },
        "id": "XvEapRszMO-2",
        "outputId": "2f44f25c-0f38-4317-dad9-94fdab327435"
      },
      "execution_count": 49,
      "outputs": [
        {
          "output_type": "execute_result",
          "data": {
            "text/plain": [
              "Series([], Name: ver_pro, dtype: int64)"
            ]
          },
          "metadata": {},
          "execution_count": 49
        }
      ]
    },
    {
      "cell_type": "code",
      "source": [
        "# df_train에는 있지만 df_test에는 없는 값을 찾기\n",
        "missing_values = df_train[~df_train['ver_win_rate_x'].isin(df_test['ver_win_rate_x'])]['ver_win_rate_x']\n",
        "missing_values.value_counts(dropna = False)"
      ],
      "metadata": {
        "colab": {
          "base_uri": "https://localhost:8080/"
        },
        "id": "W8KcqTBNMF0t",
        "outputId": "34238785-bb62-4711-d798-c8fd0e6589fa"
      },
      "execution_count": 50,
      "outputs": [
        {
          "output_type": "execute_result",
          "data": {
            "text/plain": [
              "Series([], Name: ver_win_rate_x, dtype: int64)"
            ]
          },
          "metadata": {},
          "execution_count": 50
        }
      ]
    },
    {
      "cell_type": "code",
      "source": [
        "missing_values = df_test[~df_test['ver_win_rate_x'].isin(df_train['ver_win_rate_x'])]['ver_win_rate_x']\n",
        "missing_values.value_counts(dropna = False)"
      ],
      "metadata": {
        "colab": {
          "base_uri": "https://localhost:8080/"
        },
        "id": "O256IzwTMPYy",
        "outputId": "bfb6bcb0-5853-4b02-c384-c4bdb86ee4af"
      },
      "execution_count": 52,
      "outputs": [
        {
          "output_type": "execute_result",
          "data": {
            "text/plain": [
              "Series([], Name: ver_win_rate_x, dtype: int64)"
            ]
          },
          "metadata": {},
          "execution_count": 52
        }
      ]
    },
    {
      "cell_type": "code",
      "source": [
        "# df_train에는 있지만 df_test에는 없는 값을 찾기\n",
        "missing_values = df_train[~df_train['ver_win_ratio_per_bu'].isin(df_test['ver_win_ratio_per_bu'])]['ver_win_ratio_per_bu']\n",
        "missing_values.value_counts(dropna = False)"
      ],
      "metadata": {
        "colab": {
          "base_uri": "https://localhost:8080/"
        },
        "id": "ZdMJ2D_QM_FQ",
        "outputId": "882b11c8-a45c-4dbb-d917-8992ae52ef80"
      },
      "execution_count": 53,
      "outputs": [
        {
          "output_type": "execute_result",
          "data": {
            "text/plain": [
              "0.034483    29\n",
              "Name: ver_win_ratio_per_bu, dtype: int64"
            ]
          },
          "metadata": {},
          "execution_count": 53
        }
      ]
    },
    {
      "cell_type": "code",
      "source": [
        "missing_values = df_test[~df_test['ver_win_ratio_per_bu'].isin(df_train['ver_win_ratio_per_bu'])]['ver_win_ratio_per_bu']\n",
        "missing_values.value_counts(dropna = False)"
      ],
      "metadata": {
        "colab": {
          "base_uri": "https://localhost:8080/"
        },
        "id": "h-FCc2DjNE7Z",
        "outputId": "565ad80c-787a-46ae-dcec-da2234a3fad5"
      },
      "execution_count": 54,
      "outputs": [
        {
          "output_type": "execute_result",
          "data": {
            "text/plain": [
              "Series([], Name: ver_win_ratio_per_bu, dtype: int64)"
            ]
          },
          "metadata": {},
          "execution_count": 54
        }
      ]
    },
    {
      "cell_type": "code",
      "source": [
        "# df_train에는 있지만 df_test에는 없는 값을 찾기\n",
        "missing_values = df_train[~df_train['business_area'].isin(df_test['business_area'])]['business_area']\n",
        "missing_values.value_counts(dropna = False)"
      ],
      "metadata": {
        "colab": {
          "base_uri": "https://localhost:8080/"
        },
        "id": "B1NMpXyBNASc",
        "outputId": "b0d9b63e-48d4-452f-aca9-f88021945cd0"
      },
      "execution_count": 55,
      "outputs": [
        {
          "output_type": "execute_result",
          "data": {
            "text/plain": [
              "Series([], Name: business_area, dtype: int64)"
            ]
          },
          "metadata": {},
          "execution_count": 55
        }
      ]
    },
    {
      "cell_type": "code",
      "source": [
        "missing_values = df_test[~df_test['business_area'].isin(df_train['business_area'])]['business_area']\n",
        "missing_values.value_counts(dropna = False)"
      ],
      "metadata": {
        "colab": {
          "base_uri": "https://localhost:8080/"
        },
        "id": "iuVy7vQMNFSx",
        "outputId": "6ebd1ee7-c08e-4a5d-95db-9328f06943b2"
      },
      "execution_count": 56,
      "outputs": [
        {
          "output_type": "execute_result",
          "data": {
            "text/plain": [
              "Series([], Name: business_area, dtype: int64)"
            ]
          },
          "metadata": {},
          "execution_count": 56
        }
      ]
    },
    {
      "cell_type": "code",
      "source": [
        "# df_train에는 있지만 df_test에는 없는 값을 찾기\n",
        "missing_values = df_train[~df_train['business_area'].isin(df_test['business_area'])]['business_area']\n",
        "missing_values.value_counts(dropna = False)"
      ],
      "metadata": {
        "colab": {
          "base_uri": "https://localhost:8080/"
        },
        "id": "YlYWLtjFNRe9",
        "outputId": "fc56537b-5105-4301-d2fd-6ea32815c518"
      },
      "execution_count": 57,
      "outputs": [
        {
          "output_type": "execute_result",
          "data": {
            "text/plain": [
              "Series([], Name: business_area, dtype: int64)"
            ]
          },
          "metadata": {},
          "execution_count": 57
        }
      ]
    },
    {
      "cell_type": "code",
      "source": [
        "missing_values = df_test[~df_test['business_area'].isin(df_train['business_area'])]['business_area']\n",
        "missing_values.value_counts(dropna = False)"
      ],
      "metadata": {
        "colab": {
          "base_uri": "https://localhost:8080/"
        },
        "id": "1Igl9n6KNUK4",
        "outputId": "3b7d7590-ba2a-490f-c9ae-7a3da6b290a1"
      },
      "execution_count": 58,
      "outputs": [
        {
          "output_type": "execute_result",
          "data": {
            "text/plain": [
              "Series([], Name: business_area, dtype: int64)"
            ]
          },
          "metadata": {},
          "execution_count": 58
        }
      ]
    },
    {
      "cell_type": "code",
      "source": [
        "# df_train에는 있지만 df_test에는 없는 값을 찾기\n",
        "missing_values = df_train[~df_train['lead_owner'].isin(df_test['lead_owner'])]['lead_owner']\n",
        "missing_values.value_counts(dropna = False)"
      ],
      "metadata": {
        "colab": {
          "base_uri": "https://localhost:8080/"
        },
        "id": "qqnCughANU6W",
        "outputId": "4682a8f3-0160-4d2b-84b9-f1a69360bf9d"
      },
      "execution_count": 59,
      "outputs": [
        {
          "output_type": "execute_result",
          "data": {
            "text/plain": [
              "175    4120\n",
              "23     2453\n",
              "96      981\n",
              "363     839\n",
              "38      693\n",
              "       ... \n",
              "949       1\n",
              "452       1\n",
              "951       1\n",
              "709       1\n",
              "486       1\n",
              "Name: lead_owner, Length: 629, dtype: int64"
            ]
          },
          "metadata": {},
          "execution_count": 59
        }
      ]
    },
    {
      "cell_type": "code",
      "source": [
        "missing_values = df_test[~df_test['lead_owner'].isin(df_train['lead_owner'])]['lead_owner']\n",
        "missing_values.value_counts(dropna = False)"
      ],
      "metadata": {
        "colab": {
          "base_uri": "https://localhost:8080/"
        },
        "id": "5Qnme97aNW68",
        "outputId": "b7103dc9-7a15-4fea-c096-ceada5fcf989"
      },
      "execution_count": 60,
      "outputs": [
        {
          "output_type": "execute_result",
          "data": {
            "text/plain": [
              "731     87\n",
              "135     43\n",
              "316     28\n",
              "308     22\n",
              "766     20\n",
              "353     18\n",
              "1108    15\n",
              "1046    14\n",
              "999     13\n",
              "733     10\n",
              "748      9\n",
              "356      8\n",
              "727      7\n",
              "723      7\n",
              "874      6\n",
              "591      6\n",
              "377      5\n",
              "313      5\n",
              "867      5\n",
              "960      5\n",
              "327      4\n",
              "379      4\n",
              "962      4\n",
              "331      4\n",
              "866      4\n",
              "315      4\n",
              "127      3\n",
              "969      3\n",
              "373      3\n",
              "772      3\n",
              "1026     3\n",
              "1055     3\n",
              "750      3\n",
              "571      2\n",
              "581      2\n",
              "573      2\n",
              "595      2\n",
              "751      2\n",
              "868      2\n",
              "736      2\n",
              "828      2\n",
              "558      2\n",
              "963      2\n",
              "844      2\n",
              "323      2\n",
              "978      2\n",
              "908      2\n",
              "892      2\n",
              "587      2\n",
              "752      1\n",
              "965      1\n",
              "588      1\n",
              "769      1\n",
              "1058     1\n",
              "565      1\n",
              "576      1\n",
              "1024     1\n",
              "1033     1\n",
              "562      1\n",
              "1023     1\n",
              "347      1\n",
              "734      1\n",
              "336      1\n",
              "911      1\n",
              "907      1\n",
              "850      1\n",
              "1056     1\n",
              "749      1\n",
              "1063     1\n",
              "1028     1\n",
              "136      1\n",
              "1032     1\n",
              "427      1\n",
              "747      1\n",
              "554      1\n",
              "1062     1\n",
              "773      1\n",
              "777      1\n",
              "1025     1\n",
              "320      1\n",
              "577      1\n",
              "966      1\n",
              "922      1\n",
              "735      1\n",
              "821      1\n",
              "Name: lead_owner, dtype: int64"
            ]
          },
          "metadata": {},
          "execution_count": 60
        }
      ]
    }
  ]
}