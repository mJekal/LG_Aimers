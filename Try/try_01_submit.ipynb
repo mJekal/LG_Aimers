{
 "cells": [
  {
   "cell_type": "markdown",
   "id": "017e9265",
   "metadata": {},
   "source": [
    "# 영업 성공 여부 분류 경진대회"
   ]
  },
  {
   "cell_type": "markdown",
   "id": "acdab431",
   "metadata": {},
   "source": [
    "## 1. 데이터 확인"
   ]
  },
  {
   "cell_type": "markdown",
   "id": "2b8341e8",
   "metadata": {},
   "source": [
    "### 필수 라이브러리"
   ]
  },
  {
   "cell_type": "code",
   "execution_count": 1,
   "id": "e590e251",
   "metadata": {},
   "outputs": [
    {
     "name": "stdout",
     "output_type": "stream",
     "text": [
      "Defaulting to user installation because normal site-packages is not writeable\n",
      "Requirement already satisfied: seaborn in ./.local/lib/python3.10/site-packages (0.13.2)\n",
      "Requirement already satisfied: numpy!=1.24.0,>=1.20 in ./.local/lib/python3.10/site-packages (from seaborn) (1.23.5)\n",
      "Requirement already satisfied: pandas>=1.2 in ./.local/lib/python3.10/site-packages (from seaborn) (2.1.4)\n",
      "Requirement already satisfied: matplotlib!=3.6.1,>=3.4 in ./.local/lib/python3.10/site-packages (from seaborn) (3.8.2)\n",
      "Requirement already satisfied: contourpy>=1.0.1 in ./.local/lib/python3.10/site-packages (from matplotlib!=3.6.1,>=3.4->seaborn) (1.2.0)\n",
      "Requirement already satisfied: cycler>=0.10 in ./.local/lib/python3.10/site-packages (from matplotlib!=3.6.1,>=3.4->seaborn) (0.12.1)\n",
      "Requirement already satisfied: fonttools>=4.22.0 in ./.local/lib/python3.10/site-packages (from matplotlib!=3.6.1,>=3.4->seaborn) (4.47.2)\n",
      "Requirement already satisfied: kiwisolver>=1.3.1 in ./.local/lib/python3.10/site-packages (from matplotlib!=3.6.1,>=3.4->seaborn) (1.4.5)\n",
      "Requirement already satisfied: packaging>=20.0 in ./.local/lib/python3.10/site-packages (from matplotlib!=3.6.1,>=3.4->seaborn) (23.2)\n",
      "Requirement already satisfied: pillow>=8 in ./.local/lib/python3.10/site-packages (from matplotlib!=3.6.1,>=3.4->seaborn) (10.2.0)\n",
      "Requirement already satisfied: pyparsing>=2.3.1 in ./.local/lib/python3.10/site-packages (from matplotlib!=3.6.1,>=3.4->seaborn) (3.1.1)\n",
      "Requirement already satisfied: python-dateutil>=2.7 in ./.local/lib/python3.10/site-packages (from matplotlib!=3.6.1,>=3.4->seaborn) (2.8.2)\n",
      "Requirement already satisfied: pytz>=2020.1 in ./.local/lib/python3.10/site-packages (from pandas>=1.2->seaborn) (2023.3.post1)\n",
      "Requirement already satisfied: tzdata>=2022.1 in ./.local/lib/python3.10/site-packages (from pandas>=1.2->seaborn) (2023.4)\n",
      "Requirement already satisfied: six>=1.5 in ./.local/lib/python3.10/site-packages (from python-dateutil>=2.7->matplotlib!=3.6.1,>=3.4->seaborn) (1.16.0)\n",
      "Defaulting to user installation because normal site-packages is not writeable\n",
      "Requirement already satisfied: miceforest in ./.local/lib/python3.10/site-packages (5.7.0)\n",
      "Requirement already satisfied: lightgbm>=3.3.1 in ./.local/lib/python3.10/site-packages (from miceforest) (3.3.2)\n",
      "Requirement already satisfied: numpy in ./.local/lib/python3.10/site-packages (from miceforest) (1.23.5)\n",
      "Requirement already satisfied: blosc in ./.local/lib/python3.10/site-packages (from miceforest) (1.11.1)\n",
      "Requirement already satisfied: dill in ./.local/lib/python3.10/site-packages (from miceforest) (0.3.8)\n",
      "Requirement already satisfied: wheel in /usr/local/lib/python3.10/site-packages (from lightgbm>=3.3.1->miceforest) (0.41.3)\n",
      "Requirement already satisfied: scipy in ./.local/lib/python3.10/site-packages (from lightgbm>=3.3.1->miceforest) (1.11.4)\n",
      "Requirement already satisfied: scikit-learn!=0.22.0 in ./.local/lib/python3.10/site-packages (from lightgbm>=3.3.1->miceforest) (1.2.2)\n",
      "Requirement already satisfied: joblib>=1.1.1 in ./.local/lib/python3.10/site-packages (from scikit-learn!=0.22.0->lightgbm>=3.3.1->miceforest) (1.3.2)\n",
      "Requirement already satisfied: threadpoolctl>=2.0.0 in ./.local/lib/python3.10/site-packages (from scikit-learn!=0.22.0->lightgbm>=3.3.1->miceforest) (3.2.0)\n",
      "Defaulting to user installation because normal site-packages is not writeable\n",
      "Requirement already satisfied: fancyimpute in ./.local/lib/python3.10/site-packages (0.7.0)\n",
      "Requirement already satisfied: knnimpute>=0.1.0 in ./.local/lib/python3.10/site-packages (from fancyimpute) (0.1.0)\n",
      "Requirement already satisfied: scikit-learn>=0.24.2 in ./.local/lib/python3.10/site-packages (from fancyimpute) (1.2.2)\n",
      "Requirement already satisfied: cvxpy in ./.local/lib/python3.10/site-packages (from fancyimpute) (1.4.2)\n",
      "Requirement already satisfied: cvxopt in ./.local/lib/python3.10/site-packages (from fancyimpute) (1.3.2)\n",
      "Requirement already satisfied: pytest in ./.local/lib/python3.10/site-packages (from fancyimpute) (8.0.0)\n",
      "Requirement already satisfied: nose in ./.local/lib/python3.10/site-packages (from fancyimpute) (1.3.7)\n",
      "Requirement already satisfied: six in ./.local/lib/python3.10/site-packages (from knnimpute>=0.1.0->fancyimpute) (1.16.0)\n",
      "Requirement already satisfied: numpy>=1.10 in ./.local/lib/python3.10/site-packages (from knnimpute>=0.1.0->fancyimpute) (1.23.5)\n",
      "Requirement already satisfied: scipy>=1.3.2 in ./.local/lib/python3.10/site-packages (from scikit-learn>=0.24.2->fancyimpute) (1.11.4)\n",
      "Requirement already satisfied: joblib>=1.1.1 in ./.local/lib/python3.10/site-packages (from scikit-learn>=0.24.2->fancyimpute) (1.3.2)\n",
      "Requirement already satisfied: threadpoolctl>=2.0.0 in ./.local/lib/python3.10/site-packages (from scikit-learn>=0.24.2->fancyimpute) (3.2.0)\n",
      "Requirement already satisfied: osqp>=0.6.2 in ./.local/lib/python3.10/site-packages (from cvxpy->fancyimpute) (0.6.5)\n",
      "Requirement already satisfied: ecos>=2 in ./.local/lib/python3.10/site-packages (from cvxpy->fancyimpute) (2.0.12)\n",
      "Requirement already satisfied: clarabel>=0.5.0 in ./.local/lib/python3.10/site-packages (from cvxpy->fancyimpute) (0.6.0)\n",
      "Requirement already satisfied: scs>=3.0 in ./.local/lib/python3.10/site-packages (from cvxpy->fancyimpute) (3.2.4.post1)\n",
      "Requirement already satisfied: pybind11 in ./.local/lib/python3.10/site-packages (from cvxpy->fancyimpute) (2.11.1)\n",
      "Requirement already satisfied: iniconfig in ./.local/lib/python3.10/site-packages (from pytest->fancyimpute) (2.0.0)\n",
      "Requirement already satisfied: packaging in ./.local/lib/python3.10/site-packages (from pytest->fancyimpute) (23.2)\n",
      "Requirement already satisfied: pluggy<2.0,>=1.3.0 in ./.local/lib/python3.10/site-packages (from pytest->fancyimpute) (1.4.0)\n",
      "Requirement already satisfied: exceptiongroup>=1.0.0rc8 in ./.local/lib/python3.10/site-packages (from pytest->fancyimpute) (1.2.0)\n",
      "Requirement already satisfied: tomli>=1.0.0 in ./.local/lib/python3.10/site-packages (from pytest->fancyimpute) (2.0.1)\n",
      "Requirement already satisfied: qdldl in ./.local/lib/python3.10/site-packages (from osqp>=0.6.2->cvxpy->fancyimpute) (0.1.7.post0)\n",
      "Defaulting to user installation because normal site-packages is not writeable\n",
      "Requirement already satisfied: missingno in ./.local/lib/python3.10/site-packages (0.5.2)\n",
      "Requirement already satisfied: numpy in ./.local/lib/python3.10/site-packages (from missingno) (1.23.5)\n",
      "Requirement already satisfied: matplotlib in ./.local/lib/python3.10/site-packages (from missingno) (3.8.2)\n",
      "Requirement already satisfied: scipy in ./.local/lib/python3.10/site-packages (from missingno) (1.11.4)\n",
      "Requirement already satisfied: seaborn in ./.local/lib/python3.10/site-packages (from missingno) (0.13.2)\n",
      "Requirement already satisfied: contourpy>=1.0.1 in ./.local/lib/python3.10/site-packages (from matplotlib->missingno) (1.2.0)\n",
      "Requirement already satisfied: cycler>=0.10 in ./.local/lib/python3.10/site-packages (from matplotlib->missingno) (0.12.1)\n",
      "Requirement already satisfied: fonttools>=4.22.0 in ./.local/lib/python3.10/site-packages (from matplotlib->missingno) (4.47.2)\n",
      "Requirement already satisfied: kiwisolver>=1.3.1 in ./.local/lib/python3.10/site-packages (from matplotlib->missingno) (1.4.5)\n",
      "Requirement already satisfied: packaging>=20.0 in ./.local/lib/python3.10/site-packages (from matplotlib->missingno) (23.2)\n",
      "Requirement already satisfied: pillow>=8 in ./.local/lib/python3.10/site-packages (from matplotlib->missingno) (10.2.0)\n",
      "Requirement already satisfied: pyparsing>=2.3.1 in ./.local/lib/python3.10/site-packages (from matplotlib->missingno) (3.1.1)\n",
      "Requirement already satisfied: python-dateutil>=2.7 in ./.local/lib/python3.10/site-packages (from matplotlib->missingno) (2.8.2)\n",
      "Requirement already satisfied: pandas>=1.2 in ./.local/lib/python3.10/site-packages (from seaborn->missingno) (2.1.4)\n",
      "Requirement already satisfied: pytz>=2020.1 in ./.local/lib/python3.10/site-packages (from pandas>=1.2->seaborn->missingno) (2023.3.post1)\n",
      "Requirement already satisfied: tzdata>=2022.1 in ./.local/lib/python3.10/site-packages (from pandas>=1.2->seaborn->missingno) (2023.4)\n",
      "Requirement already satisfied: six>=1.5 in ./.local/lib/python3.10/site-packages (from python-dateutil>=2.7->matplotlib->missingno) (1.16.0)\n",
      "Defaulting to user installation because normal site-packages is not writeable\n",
      "Requirement already satisfied: hyperopt in ./.local/lib/python3.10/site-packages (0.2.7)\n",
      "Requirement already satisfied: numpy in ./.local/lib/python3.10/site-packages (from hyperopt) (1.23.5)\n",
      "Requirement already satisfied: scipy in ./.local/lib/python3.10/site-packages (from hyperopt) (1.11.4)\n",
      "Requirement already satisfied: six in ./.local/lib/python3.10/site-packages (from hyperopt) (1.16.0)\n",
      "Requirement already satisfied: networkx>=2.2 in ./.local/lib/python3.10/site-packages (from hyperopt) (3.0)\n",
      "Requirement already satisfied: future in ./.local/lib/python3.10/site-packages (from hyperopt) (0.18.3)\n",
      "Requirement already satisfied: tqdm in ./.local/lib/python3.10/site-packages (from hyperopt) (4.66.1)\n",
      "Requirement already satisfied: cloudpickle in ./.local/lib/python3.10/site-packages (from hyperopt) (3.0.0)\n",
      "Requirement already satisfied: py4j in ./.local/lib/python3.10/site-packages (from hyperopt) (0.10.9.7)\n"
     ]
    }
   ],
   "source": [
    "!pip install seaborn\n",
    "!pip install miceforest\n",
    "!pip install fancyimpute\n",
    "!pip install missingno\n",
    "!pip install hyperopt"
   ]
  },
  {
   "cell_type": "code",
   "execution_count": 2,
   "id": "8992e1f7",
   "metadata": {},
   "outputs": [],
   "source": [
    "import numpy as np\n",
    "import pandas as pd\n",
    "import matplotlib.pyplot as plt\n",
    "import seaborn as sns\n",
    "import missingno as msno\n",
    "import matplotlib as mpl\n",
    "\n",
    "%matplotlib inline\n",
    "from sklearn.metrics import (\n",
    "    accuracy_score,\n",
    "    confusion_matrix,\n",
    "    f1_score,\n",
    "    precision_score,\n",
    "    recall_score,\n",
    ")\n",
    "\n",
    "from hyperopt import hp\n",
    "from hyperopt import STATUS_OK\n",
    "from hyperopt import fmin, tpe, Trials\n",
    "from sklearn.model_selection import cross_val_score\n",
    "from xgboost import XGBClassifier\n",
    "from sklearn.model_selection import train_test_split\n",
    "from sklearn.tree import DecisionTreeClassifier\n",
    "from fancyimpute import IterativeImputer\n",
    "from sklearn.experimental import enable_iterative_imputer\n",
    "import miceforest as mf\n",
    "from sklearn.model_selection import KFold\n",
    "from sklearn.preprocessing import OneHotEncoder\n",
    "\n",
    "\n",
    "pd.set_option('display.max_rows', 100)\n",
    "pd.set_option('display.max_columns', 200)"
   ]
  },
  {
   "cell_type": "markdown",
   "id": "412f98cc",
   "metadata": {},
   "source": [
    "### 데이터 셋 읽어오기"
   ]
  },
  {
   "cell_type": "code",
   "execution_count": 3,
   "id": "7ada941e",
   "metadata": {},
   "outputs": [],
   "source": [
    "df_train = pd.read_csv(\"train.csv\") # 학습용 데이터\n",
    "df_test = pd.read_csv(\"submission.csv\") # 테스트 데이터(제출파일의 데이터)"
   ]
  },
  {
   "cell_type": "code",
   "execution_count": 4,
   "id": "be9af12a",
   "metadata": {},
   "outputs": [
    {
     "data": {
      "text/html": [
       "<div>\n",
       "<style scoped>\n",
       "    .dataframe tbody tr th:only-of-type {\n",
       "        vertical-align: middle;\n",
       "    }\n",
       "\n",
       "    .dataframe tbody tr th {\n",
       "        vertical-align: top;\n",
       "    }\n",
       "\n",
       "    .dataframe thead th {\n",
       "        text-align: right;\n",
       "    }\n",
       "</style>\n",
       "<table border=\"1\" class=\"dataframe\">\n",
       "  <thead>\n",
       "    <tr style=\"text-align: right;\">\n",
       "      <th></th>\n",
       "      <th>bant_submit</th>\n",
       "      <th>customer_country</th>\n",
       "      <th>business_unit</th>\n",
       "      <th>com_reg_ver_win_rate</th>\n",
       "      <th>customer_idx</th>\n",
       "      <th>customer_type</th>\n",
       "      <th>enterprise</th>\n",
       "      <th>historical_existing_cnt</th>\n",
       "      <th>id_strategic_ver</th>\n",
       "      <th>it_strategic_ver</th>\n",
       "      <th>idit_strategic_ver</th>\n",
       "      <th>customer_job</th>\n",
       "      <th>lead_desc_length</th>\n",
       "      <th>inquiry_type</th>\n",
       "      <th>product_category</th>\n",
       "      <th>product_subcategory</th>\n",
       "      <th>product_modelname</th>\n",
       "      <th>customer_country.1</th>\n",
       "      <th>customer_position</th>\n",
       "      <th>response_corporate</th>\n",
       "      <th>expected_timeline</th>\n",
       "      <th>ver_cus</th>\n",
       "      <th>ver_pro</th>\n",
       "      <th>ver_win_rate_x</th>\n",
       "      <th>ver_win_ratio_per_bu</th>\n",
       "      <th>business_area</th>\n",
       "      <th>business_subarea</th>\n",
       "      <th>lead_owner</th>\n",
       "      <th>is_converted</th>\n",
       "    </tr>\n",
       "  </thead>\n",
       "  <tbody>\n",
       "    <tr>\n",
       "      <th>0</th>\n",
       "      <td>1.0</td>\n",
       "      <td>/Quezon City/Philippines</td>\n",
       "      <td>AS</td>\n",
       "      <td>0.066667</td>\n",
       "      <td>32160</td>\n",
       "      <td>End-Customer</td>\n",
       "      <td>Enterprise</td>\n",
       "      <td>NaN</td>\n",
       "      <td>NaN</td>\n",
       "      <td>NaN</td>\n",
       "      <td>NaN</td>\n",
       "      <td>purchasing</td>\n",
       "      <td>62</td>\n",
       "      <td>Quotation or purchase consultation</td>\n",
       "      <td>multi-split</td>\n",
       "      <td>NaN</td>\n",
       "      <td>NaN</td>\n",
       "      <td>/Quezon City/Philippines</td>\n",
       "      <td>entry level</td>\n",
       "      <td>LGEPH</td>\n",
       "      <td>less than 3 months</td>\n",
       "      <td>1</td>\n",
       "      <td>0</td>\n",
       "      <td>0.003079</td>\n",
       "      <td>0.026846</td>\n",
       "      <td>corporate / office</td>\n",
       "      <td>Engineering</td>\n",
       "      <td>0</td>\n",
       "      <td>True</td>\n",
       "    </tr>\n",
       "    <tr>\n",
       "      <th>1</th>\n",
       "      <td>1.0</td>\n",
       "      <td>/PH-00/Philippines</td>\n",
       "      <td>AS</td>\n",
       "      <td>0.066667</td>\n",
       "      <td>23122</td>\n",
       "      <td>End-Customer</td>\n",
       "      <td>Enterprise</td>\n",
       "      <td>12.0</td>\n",
       "      <td>NaN</td>\n",
       "      <td>NaN</td>\n",
       "      <td>NaN</td>\n",
       "      <td>media and communication</td>\n",
       "      <td>96</td>\n",
       "      <td>Quotation or purchase consultation</td>\n",
       "      <td>multi-split</td>\n",
       "      <td>NaN</td>\n",
       "      <td>NaN</td>\n",
       "      <td>/PH-00/Philippines</td>\n",
       "      <td>ceo/founder</td>\n",
       "      <td>LGEPH</td>\n",
       "      <td>less than 3 months</td>\n",
       "      <td>1</td>\n",
       "      <td>0</td>\n",
       "      <td>0.003079</td>\n",
       "      <td>0.026846</td>\n",
       "      <td>corporate / office</td>\n",
       "      <td>Advertising</td>\n",
       "      <td>1</td>\n",
       "      <td>True</td>\n",
       "    </tr>\n",
       "    <tr>\n",
       "      <th>2</th>\n",
       "      <td>1.0</td>\n",
       "      <td>/Kolkata /India</td>\n",
       "      <td>AS</td>\n",
       "      <td>0.088889</td>\n",
       "      <td>1755</td>\n",
       "      <td>End-Customer</td>\n",
       "      <td>Enterprise</td>\n",
       "      <td>144.0</td>\n",
       "      <td>NaN</td>\n",
       "      <td>NaN</td>\n",
       "      <td>NaN</td>\n",
       "      <td>engineering</td>\n",
       "      <td>56</td>\n",
       "      <td>Product Information</td>\n",
       "      <td>single-split</td>\n",
       "      <td>NaN</td>\n",
       "      <td>NaN</td>\n",
       "      <td>/Kolkata /India</td>\n",
       "      <td>partner</td>\n",
       "      <td>LGEIL</td>\n",
       "      <td>less than 3 months</td>\n",
       "      <td>1</td>\n",
       "      <td>0</td>\n",
       "      <td>0.003079</td>\n",
       "      <td>0.026846</td>\n",
       "      <td>corporate / office</td>\n",
       "      <td>Construction</td>\n",
       "      <td>2</td>\n",
       "      <td>True</td>\n",
       "    </tr>\n",
       "    <tr>\n",
       "      <th>3</th>\n",
       "      <td>1.0</td>\n",
       "      <td>/Bhubaneswar/India</td>\n",
       "      <td>AS</td>\n",
       "      <td>0.088889</td>\n",
       "      <td>4919</td>\n",
       "      <td>End-Customer</td>\n",
       "      <td>Enterprise</td>\n",
       "      <td>NaN</td>\n",
       "      <td>NaN</td>\n",
       "      <td>NaN</td>\n",
       "      <td>NaN</td>\n",
       "      <td>entrepreneurship</td>\n",
       "      <td>44</td>\n",
       "      <td>Quotation or purchase consultation</td>\n",
       "      <td>vrf</td>\n",
       "      <td>NaN</td>\n",
       "      <td>NaN</td>\n",
       "      <td>/Bhubaneswar/India</td>\n",
       "      <td>ceo/founder</td>\n",
       "      <td>LGEIL</td>\n",
       "      <td>less than 3 months</td>\n",
       "      <td>1</td>\n",
       "      <td>0</td>\n",
       "      <td>0.003079</td>\n",
       "      <td>0.026846</td>\n",
       "      <td>corporate / office</td>\n",
       "      <td>IT/Software</td>\n",
       "      <td>3</td>\n",
       "      <td>True</td>\n",
       "    </tr>\n",
       "    <tr>\n",
       "      <th>4</th>\n",
       "      <td>1.0</td>\n",
       "      <td>/Hyderabad/India</td>\n",
       "      <td>AS</td>\n",
       "      <td>0.088889</td>\n",
       "      <td>17126</td>\n",
       "      <td>Specifier/ Influencer</td>\n",
       "      <td>Enterprise</td>\n",
       "      <td>NaN</td>\n",
       "      <td>NaN</td>\n",
       "      <td>NaN</td>\n",
       "      <td>NaN</td>\n",
       "      <td>consulting</td>\n",
       "      <td>97</td>\n",
       "      <td>Quotation or purchase consultation</td>\n",
       "      <td>multi-split</td>\n",
       "      <td>NaN</td>\n",
       "      <td>NaN</td>\n",
       "      <td>/Hyderabad/India</td>\n",
       "      <td>partner</td>\n",
       "      <td>LGEIL</td>\n",
       "      <td>less than 3 months</td>\n",
       "      <td>0</td>\n",
       "      <td>0</td>\n",
       "      <td>0.003079</td>\n",
       "      <td>0.026846</td>\n",
       "      <td>corporate / office</td>\n",
       "      <td>NaN</td>\n",
       "      <td>4</td>\n",
       "      <td>True</td>\n",
       "    </tr>\n",
       "  </tbody>\n",
       "</table>\n",
       "</div>"
      ],
      "text/plain": [
       "   bant_submit          customer_country business_unit  com_reg_ver_win_rate  \\\n",
       "0          1.0  /Quezon City/Philippines            AS              0.066667   \n",
       "1          1.0        /PH-00/Philippines            AS              0.066667   \n",
       "2          1.0           /Kolkata /India            AS              0.088889   \n",
       "3          1.0        /Bhubaneswar/India            AS              0.088889   \n",
       "4          1.0          /Hyderabad/India            AS              0.088889   \n",
       "\n",
       "   customer_idx          customer_type  enterprise  historical_existing_cnt  \\\n",
       "0         32160           End-Customer  Enterprise                      NaN   \n",
       "1         23122           End-Customer  Enterprise                     12.0   \n",
       "2          1755           End-Customer  Enterprise                    144.0   \n",
       "3          4919           End-Customer  Enterprise                      NaN   \n",
       "4         17126  Specifier/ Influencer  Enterprise                      NaN   \n",
       "\n",
       "   id_strategic_ver  it_strategic_ver  idit_strategic_ver  \\\n",
       "0               NaN               NaN                 NaN   \n",
       "1               NaN               NaN                 NaN   \n",
       "2               NaN               NaN                 NaN   \n",
       "3               NaN               NaN                 NaN   \n",
       "4               NaN               NaN                 NaN   \n",
       "\n",
       "              customer_job  lead_desc_length  \\\n",
       "0               purchasing                62   \n",
       "1  media and communication                96   \n",
       "2              engineering                56   \n",
       "3         entrepreneurship                44   \n",
       "4               consulting                97   \n",
       "\n",
       "                         inquiry_type product_category product_subcategory  \\\n",
       "0  Quotation or purchase consultation      multi-split                 NaN   \n",
       "1  Quotation or purchase consultation      multi-split                 NaN   \n",
       "2                 Product Information     single-split                 NaN   \n",
       "3  Quotation or purchase consultation              vrf                 NaN   \n",
       "4  Quotation or purchase consultation      multi-split                 NaN   \n",
       "\n",
       "  product_modelname        customer_country.1 customer_position  \\\n",
       "0               NaN  /Quezon City/Philippines       entry level   \n",
       "1               NaN        /PH-00/Philippines       ceo/founder   \n",
       "2               NaN           /Kolkata /India           partner   \n",
       "3               NaN        /Bhubaneswar/India       ceo/founder   \n",
       "4               NaN          /Hyderabad/India           partner   \n",
       "\n",
       "  response_corporate   expected_timeline  ver_cus  ver_pro  ver_win_rate_x  \\\n",
       "0              LGEPH  less than 3 months        1        0        0.003079   \n",
       "1              LGEPH  less than 3 months        1        0        0.003079   \n",
       "2              LGEIL  less than 3 months        1        0        0.003079   \n",
       "3              LGEIL  less than 3 months        1        0        0.003079   \n",
       "4              LGEIL  less than 3 months        0        0        0.003079   \n",
       "\n",
       "   ver_win_ratio_per_bu       business_area business_subarea  lead_owner  \\\n",
       "0              0.026846  corporate / office      Engineering           0   \n",
       "1              0.026846  corporate / office      Advertising           1   \n",
       "2              0.026846  corporate / office     Construction           2   \n",
       "3              0.026846  corporate / office      IT/Software           3   \n",
       "4              0.026846  corporate / office              NaN           4   \n",
       "\n",
       "   is_converted  \n",
       "0          True  \n",
       "1          True  \n",
       "2          True  \n",
       "3          True  \n",
       "4          True  "
      ]
     },
     "execution_count": 4,
     "metadata": {},
     "output_type": "execute_result"
    }
   ],
   "source": [
    "df_train.head() # 학습용 데이터 살펴보기"
   ]
  },
  {
   "cell_type": "markdown",
   "id": "af526c13",
   "metadata": {},
   "source": [
    "## 2. 데이터 전처리"
   ]
  },
  {
   "cell_type": "code",
   "execution_count": 5,
   "id": "98efc20f",
   "metadata": {},
   "outputs": [],
   "source": [
    "df_train.dropna(subset=['customer_country'], inplace=True)"
   ]
  },
  {
   "cell_type": "code",
   "execution_count": 6,
   "id": "1df0de23",
   "metadata": {},
   "outputs": [],
   "source": [
    "df_train['customer_country'] = df_train['customer_country'].str.upper()\n",
    "df_train['City'] = df_train['customer_country'].str.split('/').str[1].str.strip()\n",
    "df_train['Country'] = df_train['customer_country'].str.split('/').str[2].str.strip()\n",
    "df_test['customer_country'] = df_test['customer_country'].str.upper()\n",
    "df_test['City'] = df_test['customer_country'].str.split('/').str[1].str.strip()\n",
    "df_test['Country'] = df_test['customer_country'].str.split('/').str[2].str.strip()"
   ]
  },
  {
   "cell_type": "code",
   "execution_count": null,
   "id": "5927303c",
   "metadata": {},
   "outputs": [],
   "source": [
    "continent_mapping = { 'North America': ['LGEMX', 'LGERS', 'LGEAZ', 'LGEMM', 'LGESP', 'LGEAI', 'LGECI', 'LGEUS', 'LGEMU', 'LGEMS', 'LGEAR', 'LGEPS', 'LGECB', 'LGECL', 'LGEPR'],\n",
    "                     'Europe': ['LGEWA', 'LGEMA', 'LGEWR', 'LGEUK', 'LGEFS', 'LGEES', 'LGEEH', 'LGEJE', 'LGEDG', 'LGEIS', 'LGEMK', 'LGEPL', 'LGESW', 'LGEHS', 'LGEAG', 'LGERO', 'LGECZ', 'LGEPT', 'LGEBN', 'LGESC', 'LGELS', 'LGENO'],\n",
    "                     'Central America': ['LGEEG', 'LGEAT', 'LGESR', 'LGETK', 'LGESA', 'LGEMC', 'LGEGF', 'LGEME', 'LGEOT', 'LGEEC', 'LGENI', 'LGEAF', 'LGELF'],\n",
    "                     'Asia': ['LGEIL', 'LGETH', 'LGEVN', 'LGEIN', 'LGECH', 'LGEHK', 'LGESL', 'LGEML', 'LGEJP', 'LGETT', 'LGEPH'],\n",
    "                     'China': ['LGETR', 'LGEHZ', 'LGEND', 'LGEPN', 'LGEQH', 'LGESH', 'LGESY', 'LGETA', 'LGEYT', 'LGEKS', 'LGENP', 'LGEHN', 'LGEQD'],\n",
    "                     'CSI Other': ['LGEAK', 'LGERA', 'LGEAP', 'LGERI', 'LGERM', 'LGEUR', 'LGELV'] }\n",
    "df_train['Continent'] = ''\n",
    "df_test['Continent'] = ''\n",
    "for continent, values in continent_mapping.items():\n",
    "    df_train.loc[df_train['response_corporate'].isin(values), 'Continent'] = continent\n",
    "    df_test.loc[df_test['response_corporate'].isin(values), 'Continent'] = continent"
   ]
  },
  {
   "cell_type": "code",
   "execution_count": null,
   "id": "33abcf0d",
   "metadata": {},
   "outputs": [],
   "source": [
    "df_train"
   ]
  },
  {
   "cell_type": "code",
   "execution_count": null,
   "id": "baec3e13",
   "metadata": {},
   "outputs": [],
   "source": [
    "df_test"
   ]
  },
  {
   "cell_type": "code",
   "execution_count": 7,
   "id": "cf09defa",
   "metadata": {},
   "outputs": [
    {
     "name": "stdout",
     "output_type": "stream",
     "text": [
      "각 열의 대체값:\n",
      "{'com_reg_ver_win_rate': 0.09308415174570663, 'historical_existing_cnt': 18.10790875959134, 'ver_win_rate_x': 0.0011278615167162956, 'ver_win_ratio_per_bu': 0.055160001729757595}\n"
     ]
    },
    {
     "name": "stderr",
     "output_type": "stream",
     "text": [
      "/home/elicer/.local/lib/python3.10/site-packages/sklearn/impute/_iterative.py:785: ConvergenceWarning: [IterativeImputer] Early stopping criterion not reached.\n",
      "  warnings.warn(\n"
     ]
    }
   ],
   "source": [
    "numeric_columns = df_train.select_dtypes(include='number')\n",
    "\n",
    "columns_without_missing_values = numeric_columns.columns[numeric_columns.isnull().sum() == 0]\n",
    "\n",
    "columns_to_exclude = ['id_strategic_ver', 'it_strategic_ver','idit_strategic_ver']\n",
    "columns_to_exclude.extend(columns_without_missing_values)\n",
    "\n",
    "columns_to_impute = numeric_columns.drop(columns=columns_to_exclude, errors='ignore')\n",
    "\n",
    "imputer = IterativeImputer()\n",
    "\n",
    "df_train_imputed = pd.DataFrame(imputer.fit_transform(columns_to_impute), columns=columns_to_impute.columns)\n",
    "\n",
    "replacement_values = df_train_imputed.mean()\n",
    "print(\"각 열의 대체값:\")\n",
    "print(dict(zip(columns_to_impute.columns, replacement_values)))"
   ]
  },
  {
   "cell_type": "code",
   "execution_count": 8,
   "id": "c6442b29",
   "metadata": {},
   "outputs": [],
   "source": [
    "df_train[columns_to_impute.columns] = df_train[columns_to_impute.columns].fillna(replacement_values)"
   ]
  },
  {
   "cell_type": "code",
   "execution_count": 9,
   "id": "a10fe76d",
   "metadata": {},
   "outputs": [
    {
     "name": "stdout",
     "output_type": "stream",
     "text": [
      "<class 'pandas.core.frame.DataFrame'>\n",
      "Index: 58317 entries, 0 to 59298\n",
      "Data columns (total 31 columns):\n",
      " #   Column                   Non-Null Count  Dtype  \n",
      "---  ------                   --------------  -----  \n",
      " 0   bant_submit              58317 non-null  float64\n",
      " 1   customer_country         58317 non-null  object \n",
      " 2   business_unit            58317 non-null  object \n",
      " 3   com_reg_ver_win_rate     58317 non-null  float64\n",
      " 4   customer_idx             58317 non-null  int64  \n",
      " 5   customer_type            15310 non-null  object \n",
      " 6   enterprise               58317 non-null  object \n",
      " 7   historical_existing_cnt  58317 non-null  float64\n",
      " 8   id_strategic_ver         3106 non-null   float64\n",
      " 9   it_strategic_ver         1116 non-null   float64\n",
      " 10  idit_strategic_ver       4222 non-null   float64\n",
      " 11  customer_job             40133 non-null  object \n",
      " 12  lead_desc_length         58317 non-null  int64  \n",
      " 13  inquiry_type             57948 non-null  object \n",
      " 14  product_category         39397 non-null  object \n",
      " 15  product_subcategory      9139 non-null   object \n",
      " 16  product_modelname        9144 non-null   object \n",
      " 17  customer_country.1       58317 non-null  object \n",
      " 18  customer_position        58317 non-null  object \n",
      " 19  response_corporate       58317 non-null  object \n",
      " 20  expected_timeline        28326 non-null  object \n",
      " 21  ver_cus                  58317 non-null  int64  \n",
      " 22  ver_pro                  58317 non-null  int64  \n",
      " 23  ver_win_rate_x           58317 non-null  float64\n",
      " 24  ver_win_ratio_per_bu     58317 non-null  float64\n",
      " 25  business_area            17613 non-null  object \n",
      " 26  business_subarea         5496 non-null   object \n",
      " 27  lead_owner               58317 non-null  int64  \n",
      " 28  is_converted             58317 non-null  bool   \n",
      " 29  City                     57118 non-null  object \n",
      " 30  Country                  56571 non-null  object \n",
      "dtypes: bool(1), float64(8), int64(5), object(17)\n",
      "memory usage: 13.8+ MB\n"
     ]
    }
   ],
   "source": [
    "df_train.info()"
   ]
  },
  {
   "cell_type": "code",
   "execution_count": 10,
   "id": "d20151f7",
   "metadata": {},
   "outputs": [],
   "source": [
    "df_train = df_train.drop([\"City\", \"id_strategic_ver\", \"idit_strategic_ver\",\"it_strategic_ver\",\"customer_country\" ,\"customer_country.1\"], axis=1)\n",
    "df_test = df_test.drop([\"City\",\"id_strategic_ver\", \"idit_strategic_ver\",\"it_strategic_ver\",\"customer_country\" ,\"customer_country.1\"], axis=1)"
   ]
  },
  {
   "cell_type": "markdown",
   "id": "4bd47e00",
   "metadata": {},
   "source": [
    "### 레이블 인코딩"
   ]
  },
  {
   "cell_type": "code",
   "execution_count": 11,
   "id": "0b42b1a1",
   "metadata": {},
   "outputs": [],
   "source": [
    "def label_encoding(series: pd.Series) -> pd.Series:\n",
    "    \"\"\"범주형 데이터를 시리즈 형태로 받아 숫자형 데이터로 변환합니다.\"\"\"\n",
    "\n",
    "    my_dict = {}\n",
    "\n",
    "    # 모든 요소를 문자열로 변환\n",
    "    series = series.astype(str)\n",
    "\n",
    "    for idx, value in enumerate(sorted(series.unique())):\n",
    "        my_dict[value] = idx\n",
    "    series = series.map(my_dict)\n",
    "\n",
    "    return series"
   ]
  },
  {
   "cell_type": "code",
   "execution_count": 12,
   "id": "881a4612",
   "metadata": {},
   "outputs": [],
   "source": [
    "# 레이블 인코딩할 칼럼들\n",
    "label_columns = [\n",
    "   #\"customer_country\",\n",
    "    \"business_subarea\",\n",
    "    \"business_area\",\n",
    "    \"business_unit\",\n",
    "    \"customer_type\",\n",
    "    \"enterprise\",\n",
    "    \"customer_job\",\n",
    "    \"inquiry_type\",\n",
    "    \"product_category\",\n",
    "    \"product_subcategory\",\n",
    "    \"product_modelname\",\n",
    "   # \"customer_country.1\",\n",
    "    \"customer_position\",\n",
    "    \"response_corporate\",\n",
    "    \"expected_timeline\",\n",
    "    #\"Continent\",\n",
    "    \"Country\"\n",
    "]\n",
    "\n",
    "\n",
    "df_all = pd.concat([df_train[label_columns], df_test[label_columns]])\n",
    "\n",
    "for col in label_columns:\n",
    "    df_all[col] = label_encoding(df_all[col])\n",
    "\n",
    "    "
   ]
  },
  {
   "cell_type": "markdown",
   "id": "3a477f93",
   "metadata": {},
   "source": [
    "다시 학습 데이터와 제출 데이터를 분리합니다."
   ]
  },
  {
   "cell_type": "code",
   "execution_count": 13,
   "id": "ff10c5fb",
   "metadata": {},
   "outputs": [],
   "source": [
    "for col in label_columns:  \n",
    "    df_train[col] = df_all.iloc[: len(df_train)][col]\n",
    "    df_test[col] = df_all.iloc[len(df_train) :][col]"
   ]
  },
  {
   "cell_type": "markdown",
   "id": "d332358a",
   "metadata": {},
   "source": [
    "### 2-2. 학습, 검증 데이터 분리"
   ]
  },
  {
   "cell_type": "code",
   "execution_count": 14,
   "id": "4707ae6b",
   "metadata": {},
   "outputs": [],
   "source": [
    "x_train, x_val, y_train, y_val = train_test_split(\n",
    "    df_train.drop(\"is_converted\", axis=1),\n",
    "    df_train[\"is_converted\"],\n",
    "    test_size=0.2,\n",
    "    shuffle=True,\n",
    "    random_state=400,)"
   ]
  },
  {
   "cell_type": "code",
   "execution_count": 15,
   "id": "59cc4ffb",
   "metadata": {},
   "outputs": [
    {
     "name": "stdout",
     "output_type": "stream",
     "text": [
      "100%|██████████| 100/100 [02:42<00:00,  1.62s/trial, best loss: -0.9728634814481384]\n"
     ]
    }
   ],
   "source": [
    "def objective_func(params):\n",
    "    accuracy_list = []\n",
    "    kf = KFold(n_splits=3)\n",
    "    for train_index, val_index in kf.split(x_train):\n",
    "        x_tr, x_val = x_train.iloc[train_index], x_train.iloc[val_index]\n",
    "        y_tr, y_val = y_train.iloc[train_index], y_train.iloc[val_index]\n",
    "        xgb_clf = XGBClassifier(**params, random_state=400, enable_categorical=True)\n",
    "        xgb_clf.fit(x_tr, y_tr)\n",
    "        preds = xgb_clf.predict(x_val)\n",
    "        accuracy = accuracy_score(y_val, preds)\n",
    "        accuracy_list.append(accuracy)\n",
    "    return -1 * np.mean(accuracy_list)  \n",
    "\n",
    "space = {\n",
    "    'n_estimators': hp.choice('n_estimators', range(50, 300)),\n",
    "    'max_depth': hp.choice('max_depth', range(3, 15)),\n",
    "    'learning_rate': hp.uniform('learning_rate', 0.01, 0.5),\n",
    "    'subsample': hp.uniform('subsample', 0.5, 1),\n",
    "    'colsample_bytree': hp.uniform('colsample_bytree', 0.5, 1),\n",
    "}\n",
    "\n",
    "trials = Trials()\n",
    "best = fmin(fn=objective_func,\n",
    "            space=space,\n",
    "            algo=tpe.suggest,\n",
    "            max_evals=100,\n",
    "            trials=trials,\n",
    "           )\n"
   ]
  },
  {
   "cell_type": "markdown",
   "id": "79ecfa9b",
   "metadata": {},
   "source": [
    "## 3. 모델 학습"
   ]
  },
  {
   "cell_type": "markdown",
   "id": "3caf257b",
   "metadata": {},
   "source": [
    "### 모델 정의 "
   ]
  },
  {
   "cell_type": "code",
   "execution_count": 16,
   "id": "e4509af0",
   "metadata": {},
   "outputs": [],
   "source": [
    "from hyperopt import space_eval\n",
    "\n",
    "best_params = space_eval(space, best)\n",
    "xgb_clf = XGBClassifier(**best_params, random_state=400)"
   ]
  },
  {
   "cell_type": "markdown",
   "id": "cacd5ed8",
   "metadata": {},
   "source": [
    "### 모델 학습"
   ]
  },
  {
   "cell_type": "code",
   "execution_count": 17,
   "id": "766d1980",
   "metadata": {},
   "outputs": [
    {
     "data": {
      "text/html": [
       "<style>#sk-container-id-1 {color: black;background-color: white;}#sk-container-id-1 pre{padding: 0;}#sk-container-id-1 div.sk-toggleable {background-color: white;}#sk-container-id-1 label.sk-toggleable__label {cursor: pointer;display: block;width: 100%;margin-bottom: 0;padding: 0.3em;box-sizing: border-box;text-align: center;}#sk-container-id-1 label.sk-toggleable__label-arrow:before {content: \"▸\";float: left;margin-right: 0.25em;color: #696969;}#sk-container-id-1 label.sk-toggleable__label-arrow:hover:before {color: black;}#sk-container-id-1 div.sk-estimator:hover label.sk-toggleable__label-arrow:before {color: black;}#sk-container-id-1 div.sk-toggleable__content {max-height: 0;max-width: 0;overflow: hidden;text-align: left;background-color: #f0f8ff;}#sk-container-id-1 div.sk-toggleable__content pre {margin: 0.2em;color: black;border-radius: 0.25em;background-color: #f0f8ff;}#sk-container-id-1 input.sk-toggleable__control:checked~div.sk-toggleable__content {max-height: 200px;max-width: 100%;overflow: auto;}#sk-container-id-1 input.sk-toggleable__control:checked~label.sk-toggleable__label-arrow:before {content: \"▾\";}#sk-container-id-1 div.sk-estimator input.sk-toggleable__control:checked~label.sk-toggleable__label {background-color: #d4ebff;}#sk-container-id-1 div.sk-label input.sk-toggleable__control:checked~label.sk-toggleable__label {background-color: #d4ebff;}#sk-container-id-1 input.sk-hidden--visually {border: 0;clip: rect(1px 1px 1px 1px);clip: rect(1px, 1px, 1px, 1px);height: 1px;margin: -1px;overflow: hidden;padding: 0;position: absolute;width: 1px;}#sk-container-id-1 div.sk-estimator {font-family: monospace;background-color: #f0f8ff;border: 1px dotted black;border-radius: 0.25em;box-sizing: border-box;margin-bottom: 0.5em;}#sk-container-id-1 div.sk-estimator:hover {background-color: #d4ebff;}#sk-container-id-1 div.sk-parallel-item::after {content: \"\";width: 100%;border-bottom: 1px solid gray;flex-grow: 1;}#sk-container-id-1 div.sk-label:hover label.sk-toggleable__label {background-color: #d4ebff;}#sk-container-id-1 div.sk-serial::before {content: \"\";position: absolute;border-left: 1px solid gray;box-sizing: border-box;top: 0;bottom: 0;left: 50%;z-index: 0;}#sk-container-id-1 div.sk-serial {display: flex;flex-direction: column;align-items: center;background-color: white;padding-right: 0.2em;padding-left: 0.2em;position: relative;}#sk-container-id-1 div.sk-item {position: relative;z-index: 1;}#sk-container-id-1 div.sk-parallel {display: flex;align-items: stretch;justify-content: center;background-color: white;position: relative;}#sk-container-id-1 div.sk-item::before, #sk-container-id-1 div.sk-parallel-item::before {content: \"\";position: absolute;border-left: 1px solid gray;box-sizing: border-box;top: 0;bottom: 0;left: 50%;z-index: -1;}#sk-container-id-1 div.sk-parallel-item {display: flex;flex-direction: column;z-index: 1;position: relative;background-color: white;}#sk-container-id-1 div.sk-parallel-item:first-child::after {align-self: flex-end;width: 50%;}#sk-container-id-1 div.sk-parallel-item:last-child::after {align-self: flex-start;width: 50%;}#sk-container-id-1 div.sk-parallel-item:only-child::after {width: 0;}#sk-container-id-1 div.sk-dashed-wrapped {border: 1px dashed gray;margin: 0 0.4em 0.5em 0.4em;box-sizing: border-box;padding-bottom: 0.4em;background-color: white;}#sk-container-id-1 div.sk-label label {font-family: monospace;font-weight: bold;display: inline-block;line-height: 1.2em;}#sk-container-id-1 div.sk-label-container {text-align: center;}#sk-container-id-1 div.sk-container {/* jupyter's `normalize.less` sets `[hidden] { display: none; }` but bootstrap.min.css set `[hidden] { display: none !important; }` so we also need the `!important` here to be able to override the default hidden behavior on the sphinx rendered scikit-learn.org. See: https://github.com/scikit-learn/scikit-learn/issues/21755 */display: inline-block !important;position: relative;}#sk-container-id-1 div.sk-text-repr-fallback {display: none;}</style><div id=\"sk-container-id-1\" class=\"sk-top-container\"><div class=\"sk-text-repr-fallback\"><pre>XGBClassifier(base_score=None, booster=None, callbacks=None,\n",
       "              colsample_bylevel=None, colsample_bynode=None,\n",
       "              colsample_bytree=0.6034211817724667, device=None,\n",
       "              early_stopping_rounds=None, enable_categorical=False,\n",
       "              eval_metric=None, feature_types=None, gamma=None,\n",
       "              grow_policy=None, importance_type=None,\n",
       "              interaction_constraints=None, learning_rate=0.2641367310131957,\n",
       "              max_bin=None, max_cat_threshold=None, max_cat_to_onehot=None,\n",
       "              max_delta_step=None, max_depth=9, max_leaves=None,\n",
       "              min_child_weight=None, missing=nan, monotone_constraints=None,\n",
       "              multi_strategy=None, n_estimators=235, n_jobs=None,\n",
       "              num_parallel_tree=None, random_state=400, ...)</pre><b>In a Jupyter environment, please rerun this cell to show the HTML representation or trust the notebook. <br />On GitHub, the HTML representation is unable to render, please try loading this page with nbviewer.org.</b></div><div class=\"sk-container\" hidden><div class=\"sk-item\"><div class=\"sk-estimator sk-toggleable\"><input class=\"sk-toggleable__control sk-hidden--visually\" id=\"sk-estimator-id-1\" type=\"checkbox\" checked><label for=\"sk-estimator-id-1\" class=\"sk-toggleable__label sk-toggleable__label-arrow\">XGBClassifier</label><div class=\"sk-toggleable__content\"><pre>XGBClassifier(base_score=None, booster=None, callbacks=None,\n",
       "              colsample_bylevel=None, colsample_bynode=None,\n",
       "              colsample_bytree=0.6034211817724667, device=None,\n",
       "              early_stopping_rounds=None, enable_categorical=False,\n",
       "              eval_metric=None, feature_types=None, gamma=None,\n",
       "              grow_policy=None, importance_type=None,\n",
       "              interaction_constraints=None, learning_rate=0.2641367310131957,\n",
       "              max_bin=None, max_cat_threshold=None, max_cat_to_onehot=None,\n",
       "              max_delta_step=None, max_depth=9, max_leaves=None,\n",
       "              min_child_weight=None, missing=nan, monotone_constraints=None,\n",
       "              multi_strategy=None, n_estimators=235, n_jobs=None,\n",
       "              num_parallel_tree=None, random_state=400, ...)</pre></div></div></div></div></div>"
      ],
      "text/plain": [
       "XGBClassifier(base_score=None, booster=None, callbacks=None,\n",
       "              colsample_bylevel=None, colsample_bynode=None,\n",
       "              colsample_bytree=0.6034211817724667, device=None,\n",
       "              early_stopping_rounds=None, enable_categorical=False,\n",
       "              eval_metric=None, feature_types=None, gamma=None,\n",
       "              grow_policy=None, importance_type=None,\n",
       "              interaction_constraints=None, learning_rate=0.2641367310131957,\n",
       "              max_bin=None, max_cat_threshold=None, max_cat_to_onehot=None,\n",
       "              max_delta_step=None, max_depth=9, max_leaves=None,\n",
       "              min_child_weight=None, missing=nan, monotone_constraints=None,\n",
       "              multi_strategy=None, n_estimators=235, n_jobs=None,\n",
       "              num_parallel_tree=None, random_state=400, ...)"
      ]
     },
     "execution_count": 17,
     "metadata": {},
     "output_type": "execute_result"
    }
   ],
   "source": [
    "xgb_clf.fit(x_train, y_train)"
   ]
  },
  {
   "cell_type": "markdown",
   "id": "6bf2de5f",
   "metadata": {},
   "source": [
    "### 모델 성능 보기"
   ]
  },
  {
   "cell_type": "code",
   "execution_count": 18,
   "id": "c8871444",
   "metadata": {},
   "outputs": [],
   "source": [
    "def get_clf_eval(y_test, y_pred=None):\n",
    "    confusion = confusion_matrix(y_test, y_pred, labels=[True, False])\n",
    "    accuracy = accuracy_score(y_test, y_pred)\n",
    "    precision = precision_score(y_test, y_pred, labels=[True, False])\n",
    "    recall = recall_score(y_test, y_pred)\n",
    "    F1 = f1_score(y_test, y_pred, labels=[True, False])\n",
    "\n",
    "    print(\"오차행렬:\\n\", confusion)\n",
    "    print(\"\\n정확도: {:.4f}\".format(accuracy))\n",
    "    print(\"정밀도: {:.4f}\".format(precision))\n",
    "    print(\"재현율: {:.4f}\".format(recall))\n",
    "    print(\"F1: {:.4f}\".format(F1))"
   ]
  },
  {
   "cell_type": "code",
   "execution_count": 19,
   "id": "56a86373",
   "metadata": {},
   "outputs": [
    {
     "name": "stdout",
     "output_type": "stream",
     "text": [
      "오차행렬:\n",
      " [[  754   202]\n",
      " [   67 10641]]\n",
      "\n",
      "정확도: 0.9769\n",
      "정밀도: 0.9184\n",
      "재현율: 0.7887\n",
      "F1: 0.8486\n"
     ]
    }
   ],
   "source": [
    "pred = xgb_clf.predict(x_val)\n",
    "get_clf_eval(y_val, pred)"
   ]
  },
  {
   "cell_type": "markdown",
   "id": "7adf8300",
   "metadata": {},
   "source": [
    "## 4. 제출하기"
   ]
  },
  {
   "cell_type": "markdown",
   "id": "9d0b6e17",
   "metadata": {},
   "source": [
    "### 테스트 데이터 예측"
   ]
  },
  {
   "cell_type": "code",
   "execution_count": 20,
   "id": "43daa73c",
   "metadata": {},
   "outputs": [],
   "source": [
    "# 예측에 필요한 데이터 분리\n",
    "x_test = df_test.drop([\"is_converted\", \"id\"], axis=1)"
   ]
  },
  {
   "cell_type": "code",
   "execution_count": 21,
   "id": "d13f7a6e",
   "metadata": {},
   "outputs": [
    {
     "data": {
      "text/plain": [
       "825"
      ]
     },
     "execution_count": 21,
     "metadata": {},
     "output_type": "execute_result"
    }
   ],
   "source": [
    "test_pred = xgb_clf.predict(x_test)\n",
    "sum(test_pred) # True로 예측된 개수"
   ]
  },
  {
   "cell_type": "markdown",
   "id": "47f18e6a",
   "metadata": {},
   "source": [
    "### 제출 파일 작성"
   ]
  },
  {
   "cell_type": "code",
   "execution_count": 22,
   "id": "3128a458",
   "metadata": {},
   "outputs": [],
   "source": [
    "# 제출 데이터 읽어오기 (df_test는 전처리된 데이터가 저장됨)\n",
    "df_sub = pd.read_csv(\"submission.csv\")\n",
    "df_sub[\"is_converted\"] = test_pred\n",
    "\n",
    "# 제출 파일 저장\n",
    "df_sub.to_csv(\"submission.csv\", index=False)"
   ]
  },
  {
   "cell_type": "markdown",
   "id": "ec7867ce",
   "metadata": {},
   "source": [
    "**우측 상단의 제출 버튼을 클릭해 결과를 확인하세요**"
   ]
  }
 ],
 "metadata": {
  "kernelspec": {
   "display_name": "Python 3 (ipykernel)",
   "language": "python",
   "name": "python3"
  },
  "language_info": {
   "codemirror_mode": {
    "name": "ipython",
    "version": 3
   },
   "file_extension": ".py",
   "mimetype": "text/x-python",
   "name": "python",
   "nbconvert_exporter": "python",
   "pygments_lexer": "ipython3",
   "version": "3.10.13"
  }
 },
 "nbformat": 4,
 "nbformat_minor": 5
}
